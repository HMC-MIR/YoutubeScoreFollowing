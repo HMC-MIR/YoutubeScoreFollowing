{
 "cells": [
  {
   "cell_type": "code",
   "execution_count": 5,
   "metadata": {},
   "outputs": [],
   "source": [
    "import time\n",
    "import pickle\n",
    "import numpy as np\n",
    "import csv\n",
    "import math\n",
    "from matplotlib import pyplot as plt\n",
    "import random"
   ]
  },
  {
   "cell_type": "code",
   "execution_count": 6,
   "metadata": {},
   "outputs": [],
   "source": [
    "train_list = list(filter(lambda x: (str(x)[-1] in ['1', '5']), range(1, 201)))\n",
    "test_list = list(filter(lambda x: (str(x)[-1] not in ['1', '5']), range(1, 201)))\n",
    "low_result = [8, 54, 98, 154, 184, 126]\n",
    "not_align = [73, 74, 76, 193]"
   ]
  },
  {
   "cell_type": "code",
   "execution_count": 7,
   "metadata": {},
   "outputs": [],
   "source": [
    "def getLineFromAnnot(time, piece, data='data'):\n",
    "    with open('/home/mshan/ttemp/{}/timeAnnot/0/p{}.timeannot.csv'.format(data, piece)) as csvfile:\n",
    "        reader = csv.reader(csvfile)\n",
    "        last_row = []\n",
    "        for row in reader:\n",
    "            if float(row[1]) <= time and float(row[2]) > time:\n",
    "                page = int(row[0].split('L')[0][1:])\n",
    "                line_on_page = int(row[0].split('L')[1])\n",
    "                return page, line_on_page\n",
    "            last_row = row\n",
    "        page = int(last_row[0].split('L')[0][1:])\n",
    "        line_on_page = int(last_row[0].split('L')[1])\n",
    "        return page, line_on_page"
   ]
  },
  {
   "cell_type": "code",
   "execution_count": 8,
   "metadata": {},
   "outputs": [],
   "source": [
    "def getPixel(page, line_on_page, piece):\n",
    "    with open('/home/mshan/ttemp/data/lineAnnot/p{}.lineinfo.csv'.format(piece)) as csvfile:\n",
    "        reader = csv.reader(csvfile)\n",
    "        rows = []\n",
    "        for row in reader:\n",
    "            if row[0] == 'P{}L{}'.format(page, line_on_page):\n",
    "                return int(row[1]), int(row[2])\n",
    "        return -1, -1"
   ]
  },
  {
   "cell_type": "code",
   "execution_count": 9,
   "metadata": {},
   "outputs": [],
   "source": [
    "def getPrevNext(piece, page, line_on_page):\n",
    "    if line_on_page == 1:\n",
    "        prev_end = 0\n",
    "        prev_page = -1\n",
    "    else:\n",
    "        prev_page = page\n",
    "        _, prev_end = getPixel(page, line_on_page - 1, piece)\n",
    "    if getPixel(page, line_on_page + 1, piece)[0] == -1:\n",
    "        next_start = np.inf\n",
    "        next_page = -1\n",
    "    else:\n",
    "        next_page = page\n",
    "        _, next_start = getPixel(next_page, line_on_page + 1, piece)\n",
    "    return prev_end, prev_page, next_start, next_page"
   ]
  },
  {
   "cell_type": "code",
   "execution_count": 10,
   "metadata": {},
   "outputs": [],
   "source": [
    "def getChangeLineInfo(piece, data='data'):\n",
    "    # For scoring collars\n",
    "    with open('/home/mshan/ttemp/{}/timeAnnot/0/p{}.timeannot.csv'.format(data, piece)) as csvfile:\n",
    "        reader = csv.reader(csvfile)\n",
    "        change_line_time = []\n",
    "        for row in reader:\n",
    "            change_line_time.append(float(row[-1]))\n",
    "    return change_line_time[:-1]"
   ]
  },
  {
   "cell_type": "code",
   "execution_count": 11,
   "metadata": {},
   "outputs": [],
   "source": [
    "def getBoundaryElements(piece, loc):\n",
    "    '''\n",
    "    Variable loc could be either 'F' or 'L'.\n",
    "    Get all elements that are first or last element of a single line, given a piece number.\n",
    "    '''\n",
    "    first = []\n",
    "    last = []\n",
    "    with open('/home/mshan/ttemp/data/bscore_sheet/p{}.pkl'.format(piece), 'rb') as f:\n",
    "        d = pickle.load(f)\n",
    "        for i in range(1, len(d['events'])):\n",
    "            \n",
    "            # check if on the same page as the previous event\n",
    "            if d['events'][i][2] != d['events'][i-1][2]:\n",
    "                first.append(i)\n",
    "                \n",
    "        for i in range(0, len(d['events'])-1):\n",
    "            # check if on the same page as the next event\n",
    "            if d['events'][i][2] != d['events'][i+1][2]:\n",
    "                last.append(i)\n",
    "                \n",
    "    if loc == 'F':\n",
    "        return [0] + first # 0 is also a first element\n",
    "    return last + [len(d['events']) - 1] # add the last element of a piece"
   ]
  },
  {
   "cell_type": "code",
   "execution_count": 12,
   "metadata": {},
   "outputs": [],
   "source": [
    "def accuracy(time, piece, events, data='data', white=0, collar=0, sys='subseqDTW', pred_lines=None, wp=None):\n",
    "    accu_time = 0\n",
    "    total_time = time[-1] - time[0]\n",
    "    tol = 100\n",
    "    if sys[:15] == 'hierarchicalDTW':\n",
    "        bounds = getBoundaryElements(piece, \"F\")\n",
    "    # for visualization\n",
    "    accu_info = []\n",
    "    change_line_info = []\n",
    "    prev_line = 0\n",
    "    \n",
    "    for i in range(len(time)-1):\n",
    "        is_accurate = False\n",
    "        time_point = time[i]\n",
    "        page, line_on_page = getLineFromAnnot(time_point, piece, data)\n",
    "        start, end = getPixel(page, line_on_page, piece)\n",
    "        prev_end, prev_page, next_start, next_page = getPrevNext(piece, page, line_on_page)\n",
    "        # for visualization\n",
    "        if line_on_page == prev_line:\n",
    "            change_line_info.append('c')\n",
    "        else:\n",
    "            change_line_info.append('f')\n",
    "        prev_line = line_on_page\n",
    "        \n",
    "        # Check if this prediction is correct\n",
    "        change_line_list = np.asarray(getChangeLineInfo(piece, data))\n",
    "        beginInCollar = sum(abs(change_line_list - time[i]) <= collar)\n",
    "        endInCollar = sum(abs(change_line_list - time[i+1]) <= collar)\n",
    "        if beginInCollar > 0 and endInCollar > 0:\n",
    "            total_time -= time[i+1]-time[i]\n",
    "            accu_info.append('c')\n",
    "            is_accurate = True\n",
    "         \n",
    "        else:\n",
    "            if sys[:15] == 'hierarchicalDTW':\n",
    "                start_idx = bounds[pred_lines[i]]\n",
    "                start_event = events[start_idx]\n",
    "            else:\n",
    "                start_event = events[wp[i][1]]\n",
    "            if start_event[5] == page - white:\n",
    "                cur_start = start_event[3]\n",
    "                cur_end = start_event[4]\n",
    "                if cur_start < start+tol and cur_end > end-tol:\n",
    "                    if (page != prev_page or cur_start > prev_end + tol) and (page != next_page or cur_end < next_start - tol):\n",
    "                        accu_time += time[i+1]-time[i]\n",
    "                        accu_info.append('c')\n",
    "                        is_accurate = True\n",
    "        if not is_accurate:\n",
    "            accu_info.append('w') # for visualization\n",
    "            \n",
    "    return accu_time, total_time, accu_info, change_line_info"
   ]
  },
  {
   "cell_type": "code",
   "execution_count": 9,
   "metadata": {},
   "outputs": [],
   "source": [
    "def runBenchmark(data='data', tol=100, collar=0, alpha=0.7, verbose=True, sys='subseqDTW'):\n",
    "    acc_list = []\n",
    "    total_acc = 0\n",
    "    total_times = 0\n",
    "    for i in train_list:\n",
    "        if i not in low_result:\n",
    "            white = 0\n",
    "            if i in [4, 6, 7, 8, 14, 29, 30, 31, 32, 48, 53, 54, 59, 62, 98, 124, 136, 140, 150, 191, 199]:\n",
    "                white = 1\n",
    "            if i in [133, 138]:\n",
    "                white = 2\n",
    "            \n",
    "            if sys[:15] == 'hierarchicalDTW':\n",
    "                pklfile = '/home/mshan/ttemp/data/hyp/{}/{}/{}/p{}.pkl'.format(sys, data, alpha, i)\n",
    "                with open(pklfile, 'rb') as f:\n",
    "                    d = pickle.load(f)\n",
    "                accu_time, total_time, _, change_line_info = accuracy(d['actual_time'], i, d['events'], sys=sys, data=data, white=white, collar=collar, pred_lines=d['pred_lines'])\n",
    "            else:\n",
    "                pklfile = '/home/mshan/ttemp/data/hyp/{}/{}/p{}.pkl'.format(sys, data, i)\n",
    "                with open(pklfile, 'rb') as f:\n",
    "                    d = pickle.load(f)\n",
    "                accu_time, total_time, _, change_line_info = accuracy(d['actual_time'], i, d['events'], sys=sys, data=data, white=white, collar=collar, wp=d['wp'])\n",
    "            acc = accu_time / total_time\n",
    "            total_acc += accu_time\n",
    "            total_times += total_time\n",
    "            if math.isnan(acc):\n",
    "                acc = 0\n",
    "            acc_list.append(acc)\n",
    "            \n",
    "            if verbose:\n",
    "                print(\"Accuracy is {} for piece {}.\".format(acc, i))\n",
    "    return acc_list, change_line_info, total_acc / total_times"
   ]
  },
  {
   "cell_type": "code",
   "execution_count": 222,
   "metadata": {},
   "outputs": [
    {
     "name": "stdout",
     "output_type": "stream",
     "text": [
      "Accuracy is 0.9530036779730278 for piece 2.\n",
      "Accuracy is 0.8171411204538556 for piece 3.\n",
      "Accuracy is 0.9945191828599882 for piece 4.\n",
      "Accuracy is 0.8962264150943383 for piece 6.\n",
      "Accuracy is 0.9279877425944872 for piece 7.\n",
      "Accuracy is 0.9436647558806128 for piece 9.\n",
      "Accuracy is 0.5276312135517929 for piece 10.\n",
      "Accuracy is 0.9771293375394341 for piece 12.\n",
      "Accuracy is 0.9181603773584947 for piece 13.\n",
      "Accuracy is 0.9799732977303054 for piece 14.\n",
      "Accuracy is 0.835322723253762 for piece 16.\n",
      "Accuracy is 0.7537717050953653 for piece 17.\n",
      "Accuracy is 0.9371951219512272 for piece 18.\n",
      "Accuracy is 0.953905249679894 for piece 19.\n",
      "Accuracy is 0.745521359669269 for piece 20.\n",
      "Accuracy is 0.9378084896347552 for piece 22.\n",
      "Accuracy is 0.9219204655674093 for piece 23.\n",
      "Accuracy is 0.8997627520759187 for piece 24.\n",
      "Accuracy is 0.7840501792114691 for piece 26.\n",
      "Accuracy is 0.9302949061662245 for piece 27.\n",
      "Accuracy is 0.949265054528212 for piece 28.\n",
      "Accuracy is 0.7335142469470846 for piece 29.\n",
      "Accuracy is 0.9129959956316058 for piece 30.\n",
      "Accuracy is 0.5560463832136938 for piece 32.\n",
      "Accuracy is 0.7355555555555541 for piece 33.\n",
      "Accuracy is 0.6183673469387753 for piece 34.\n",
      "Accuracy is 0.770029057700293 for piece 36.\n",
      "Accuracy is 0.7334420880913595 for piece 37.\n",
      "Accuracy is 0.7850792423656854 for piece 38.\n",
      "Accuracy is 0.71856027753686 for piece 39.\n",
      "Accuracy is 0.8735483870967721 for piece 40.\n",
      "Accuracy is 0.9943865276663982 for piece 42.\n",
      "Accuracy is 0.6924855491329475 for piece 43.\n",
      "Accuracy is 0.7773549000951494 for piece 44.\n",
      "Accuracy is 0.9859863456701499 for piece 46.\n",
      "Accuracy is 0.8796082949308743 for piece 47.\n",
      "Accuracy is 0.9774457287848962 for piece 48.\n",
      "Accuracy is 0.5441208670899946 for piece 49.\n",
      "Accuracy is 0.9351851851851838 for piece 50.\n",
      "Accuracy is 0.8768347160178674 for piece 52.\n",
      "Accuracy is 0.9151024811219001 for piece 53.\n",
      "Accuracy is 0.9606522509748414 for piece 56.\n",
      "Accuracy is 0.9017068864037665 for piece 57.\n",
      "Accuracy is 0.8619970559371952 for piece 58.\n",
      "Accuracy is 0.0 for piece 59.\n",
      "Accuracy is 0.5190489057011662 for piece 60.\n",
      "Accuracy is 0.8669224555735077 for piece 62.\n",
      "Accuracy is 0.9343257443082301 for piece 63.\n",
      "Accuracy is 0.579551122194517 for piece 64.\n",
      "Accuracy is 0.946288798920381 for piece 66.\n",
      "Accuracy is 0.9738562091503251 for piece 67.\n",
      "Accuracy is 0.9610389610389602 for piece 68.\n",
      "Accuracy is 0.8195187165775374 for piece 69.\n",
      "Accuracy is 0.8570297029703101 for piece 70.\n",
      "Accuracy is 0.8625 for piece 72.\n",
      "Accuracy is 0.0 for piece 73.\n",
      "Accuracy is 0.02606984751598627 for piece 74.\n",
      "Accuracy is 0.003285420944558522 for piece 76.\n",
      "Accuracy is 0.9723053892215557 for piece 77.\n",
      "Accuracy is 0.7390599675850892 for piece 78.\n",
      "Accuracy is 0.924562682215749 for piece 79.\n",
      "Accuracy is 0.951995373048003 for piece 80.\n",
      "Accuracy is 0.6847360912981448 for piece 82.\n",
      "Accuracy is 0.8965204784342174 for piece 83.\n",
      "Accuracy is 0.8673870333988256 for piece 84.\n",
      "Accuracy is 0.9224707135250307 for piece 86.\n",
      "Accuracy is 0.8061929776057533 for piece 87.\n",
      "Accuracy is 0.9328982255761791 for piece 88.\n",
      "Accuracy is 0.9884708737864061 for piece 89.\n",
      "Accuracy is 0.9557317476048933 for piece 90.\n",
      "Accuracy is 0.9777073543875016 for piece 92.\n",
      "Accuracy is 0.8879946344735137 for piece 93.\n",
      "Accuracy is 0.9474480151228759 for piece 94.\n",
      "Accuracy is 0.8469179082676078 for piece 96.\n",
      "Accuracy is 0.6840770443484637 for piece 97.\n",
      "Accuracy is 0.5694338664635742 for piece 99.\n",
      "Accuracy is 0.9200697211155415 for piece 100.\n",
      "Accuracy is 0.9202380952380925 for piece 102.\n",
      "Accuracy is 0.6863874345549762 for piece 103.\n",
      "Accuracy is 0.9185561195713501 for piece 104.\n",
      "Accuracy is 0.9026933101650723 for piece 106.\n",
      "Accuracy is 0.9974795211090102 for piece 107.\n",
      "Accuracy is 0.9098805646036996 for piece 108.\n",
      "Accuracy is 0.7429211652067642 for piece 109.\n",
      "Accuracy is 0.6794554455445532 for piece 110.\n",
      "Accuracy is 0.9876203576341116 for piece 112.\n",
      "Accuracy is 0.7619814740233612 for piece 113.\n",
      "Accuracy is 0.6993548387096811 for piece 114.\n",
      "Accuracy is 0.9977502812148458 for piece 116.\n",
      "Accuracy is 0.8117621337997402 for piece 117.\n",
      "Accuracy is 0.4615572967678759 for piece 118.\n",
      "Accuracy is 0.7403264812575729 for piece 119.\n",
      "Accuracy is 0.7667249672059478 for piece 120.\n",
      "Accuracy is 0.8839085611833247 for piece 122.\n",
      "Accuracy is 0.9284116331096245 for piece 123.\n",
      "Accuracy is 0.8673331532018436 for piece 124.\n",
      "Accuracy is 0.8300747556066794 for piece 127.\n",
      "Accuracy is 0.7274193548387092 for piece 128.\n",
      "Accuracy is 0.864675688287447 for piece 129.\n",
      "Accuracy is 0.8672745694022336 for piece 130.\n",
      "Accuracy is 0.9296261388627128 for piece 132.\n",
      "Accuracy is 0.8826927349477953 for piece 133.\n",
      "Accuracy is 0.8955020445252145 for piece 134.\n",
      "Accuracy is 0.9689265536723134 for piece 136.\n",
      "Accuracy is 0.9800181653042687 for piece 137.\n",
      "Accuracy is 0.9849877450980498 for piece 138.\n",
      "Accuracy is 0.3133864387021575 for piece 139.\n",
      "Accuracy is 0.7340476418252947 for piece 140.\n",
      "Accuracy is 0.924955930496104 for piece 142.\n",
      "Accuracy is 0.802308802308804 for piece 143.\n",
      "Accuracy is 0.9686293436293463 for piece 144.\n",
      "Accuracy is 0.9492894056847655 for piece 146.\n",
      "Accuracy is 0.9557739557739634 for piece 147.\n",
      "Accuracy is 0.8786024794719048 for piece 148.\n",
      "Accuracy is 0.9097114889232357 for piece 149.\n",
      "Accuracy is 0.9561940650023547 for piece 150.\n",
      "Accuracy is 0.888121990369186 for piece 152.\n",
      "Accuracy is 0.9758620689655151 for piece 153.\n",
      "Accuracy is 0.8592508513053405 for piece 156.\n",
      "Accuracy is 0.9830400000000096 for piece 157.\n",
      "Accuracy is 0.9319338422391853 for piece 158.\n",
      "Accuracy is 0.9045734388742301 for piece 159.\n",
      "Accuracy is 0.5773514851485202 for piece 160.\n",
      "Accuracy is 0.783739837398374 for piece 162.\n",
      "Accuracy is 0.6529492455418368 for piece 163.\n",
      "Accuracy is 0.9649651535129059 for piece 164.\n",
      "Accuracy is 0.8697767244605242 for piece 166.\n",
      "Accuracy is 0.9284167208143821 for piece 167.\n",
      "Accuracy is 0.7986520640269578 for piece 168.\n",
      "Accuracy is 0.9832699619771857 for piece 169.\n",
      "Accuracy is 0.8228361669242681 for piece 170.\n",
      "Accuracy is 0.3181061146799923 for piece 172.\n",
      "Accuracy is 0.9129020599927745 for piece 173.\n",
      "Accuracy is 0.8642361887720904 for piece 174.\n",
      "Accuracy is 0.8033067274800493 for piece 176.\n",
      "Accuracy is 0.9389598540145757 for piece 177.\n",
      "Accuracy is 0.9665082108902381 for piece 178.\n",
      "Accuracy is 0.7095135467980312 for piece 179.\n",
      "Accuracy is 0.9312959014451627 for piece 180.\n",
      "Accuracy is 0.8116550116550109 for piece 182.\n",
      "Accuracy is 0.6918963389551622 for piece 183.\n",
      "Accuracy is 0.6760485651214142 for piece 186.\n",
      "Accuracy is 0.30089058524172985 for piece 187.\n",
      "Accuracy is 0.8473982856453032 for piece 188.\n",
      "Accuracy is 0.885499765368371 for piece 189.\n",
      "Accuracy is 0.9477094972067062 for piece 190.\n",
      "Accuracy is 0.5577035735207965 for piece 192.\n",
      "Accuracy is 0.0 for piece 193.\n",
      "Accuracy is 0.9155033063923578 for piece 194.\n",
      "Accuracy is 0.9871134020618544 for piece 196.\n",
      "Accuracy is 0.8410351201478741 for piece 197.\n",
      "Accuracy is 0.957950700821652 for piece 198.\n",
      "Accuracy is 0.5455003781194868 for piece 199.\n",
      "Accuracy is 0.293877551020409 for piece 200.\n",
      "Average accuracy is: 0.8057868959758065\n",
      "Average time is: 3.159182742044523\n"
     ]
    }
   ],
   "source": [
    "import time\n",
    "start = time.time()\n",
    "acc_list, change_line_info, total_ratio = runBenchmark(data='data_repeat3', collar=0.2, alpha=0.7, verbose=True, sys='hierarchicalDTW_v3.AD')\n",
    "print(\"Average accuracy is: {}\".format(total_ratio))\n",
    "print(\"Average time is: {}\".format((time.time()-start)/len(acc_list)))"
   ]
  },
  {
   "cell_type": "code",
   "execution_count": 14,
   "metadata": {},
   "outputs": [
    {
     "data": {
      "image/png": "[encoded data removed]",
      "text/plain": [
       "<Figure size 432x288 with 1 Axes>"
      ]
     },
     "metadata": {
      "needs_background": "light"
     },
     "output_type": "display_data"
    }
   ],
   "source": [
    "plt.hist(acc_list, bins='auto', rwidth=0.8)\n",
    "plt.ylabel('Count');\n",
    "plt.xlabel('Accuracy');"
   ]
  },
  {
   "cell_type": "code",
   "execution_count": 85,
   "metadata": {},
   "outputs": [
    {
     "name": "stdout",
     "output_type": "stream",
     "text": [
      "Average accuracy is: 0.7409922904450567 for data data and collar 0.\n",
      "Average accuracy is: 0.7400156527424773 for data data_repeat1 and collar 0.\n",
      "Average accuracy is: 0.7478546058858746 for data data_repeat2 and collar 0.\n",
      "Average accuracy is: 0.7425554858730202 for data data_repeat3 and collar 0.\n",
      "Average accuracy is: 0.7401806497614369 for data data_dsalfine and collar 0.\n",
      "Average accuracy is: 0.7427684369869496 for data data and collar 0.1.\n",
      "Average accuracy is: 0.7419289741770495 for data data_repeat1 and collar 0.1.\n",
      "Average accuracy is: 0.7497440947746821 for data data_repeat2 and collar 0.1.\n",
      "Average accuracy is: 0.7445209278221524 for data data_repeat3 and collar 0.1.\n",
      "Average accuracy is: 0.7419704666997905 for data data_dsalfine and collar 0.1.\n",
      "Average accuracy is: 0.7497821665932867 for data data and collar 0.2.\n",
      "Average accuracy is: 0.7491775834547976 for data data_repeat1 and collar 0.2.\n",
      "Average accuracy is: 0.7571323635143783 for data data_repeat2 and collar 0.2.\n",
      "Average accuracy is: 0.7515002276095327 for data data_repeat3 and collar 0.2.\n",
      "Average accuracy is: 0.7492294762919702 for data data_dsalfine and collar 0.2.\n",
      "Average accuracy is: 0.7678316270730989 for data data and collar 0.5.\n",
      "Average accuracy is: 0.766818568177724 for data data_repeat1 and collar 0.5.\n",
      "Average accuracy is: 0.7754829453442647 for data data_repeat2 and collar 0.5.\n",
      "Average accuracy is: 0.7699203091759012 for data data_repeat3 and collar 0.5.\n",
      "Average accuracy is: 0.7670429641508886 for data data_dsalfine and collar 0.5.\n",
      "Average accuracy is: 0.7790862786376823 for data data and collar 1.\n",
      "Average accuracy is: 0.7790990114590635 for data data_repeat1 and collar 1.\n",
      "Average accuracy is: 0.7887040096349449 for data data_repeat2 and collar 1.\n",
      "Average accuracy is: 0.7836913834481413 for data data_repeat3 and collar 1.\n",
      "Average accuracy is: 0.7788729154268677 for data data_dsalfine and collar 1.\n"
     ]
    }
   ],
   "source": [
    "for collar in [0, 0.1, 0.2, 0.5, 1]:\n",
    "    for data in ['data', 'data_repeat1', 'data_repeat2', 'data_repeat3', 'data_dsalfine']:\n",
    "        _, _, ratio = runBenchmark(data=data, collar=collar, verbose=False, sys='jumpDTW')\n",
    "        print(\"Average accuracy is: {} for data {} and collar {}.\".format(ratio, data, collar))"
   ]
  },
  {
   "cell_type": "code",
   "execution_count": 45,
   "metadata": {},
   "outputs": [
    {
     "name": "stdout",
     "output_type": "stream",
     "text": [
      "Average accuracy is: 0.6933204207574355 for data data and collar 0.2.\n",
      "Average accuracy is: 0.6893227950118043 for data data_repeat1 and collar 0.2.\n",
      "Average accuracy is: 0.6795988126341197 for data data_repeat2 and collar 0.2.\n",
      "Average accuracy is: 0.6860881133946692 for data data_repeat3 and collar 0.2.\n",
      "Average accuracy is: 0.6791218101757919 for data data_dsalfine and collar 0.2.\n",
      "Average accuracy is: 0.7047641654537347 for data data and collar 0.5.\n",
      "Average accuracy is: 0.70165151220772 for data data_repeat1 and collar 0.5.\n",
      "Average accuracy is: 0.6914190295041148 for data data_repeat2 and collar 0.5.\n",
      "Average accuracy is: 0.6981521591377288 for data data_repeat3 and collar 0.5.\n",
      "Average accuracy is: 0.6911318290124286 for data data_dsalfine and collar 0.5.\n",
      "Average accuracy is: 0.71389002950958 for data data and collar 1.\n",
      "Average accuracy is: 0.7122952189877215 for data data_repeat1 and collar 1.\n",
      "Average accuracy is: 0.702076896836532 for data data_repeat2 and collar 1.\n",
      "Average accuracy is: 0.7097268426459682 for data data_repeat3 and collar 1.\n",
      "Average accuracy is: 0.7024370036659514 for data data_dsalfine and collar 1.\n",
      "Average accuracy is: 0.6890970319387245 for data data and collar 0.1.\n",
      "Average accuracy is: 0.6854426436363484 for data data_repeat1 and collar 0.1.\n",
      "Average accuracy is: 0.6758270035056082 for data data_repeat2 and collar 0.1.\n",
      "Average accuracy is: 0.6823830391360028 for data data_repeat3 and collar 0.1.\n",
      "Average accuracy is: 0.675312023988798 for data data_dsalfine and collar 0.1.\n"
     ]
    }
   ],
   "source": [
    "for collar in [0.2, 0.5, 1, 0.1]:\n",
    "    for data in ['data', 'data_repeat1', 'data_repeat2', 'data_repeat3', 'data_dsalfine']:\n",
    "        _, _, ratio = runBenchmark(data=data, collar=collar, verbose=False, sys='jumpDTW')\n",
    "        print(\"Average accuracy is: {} for data {} and collar {}.\".format(ratio, data, collar))"
   ]
  },
  {
   "cell_type": "code",
   "execution_count": 230,
   "metadata": {},
   "outputs": [
    {
     "name": "stdout",
     "output_type": "stream",
     "text": [
      "Average accuracy is: 0.8632814849567532 for data data and collar 0.\n",
      "Average accuracy is: 0.8723858301323095 for data data and collar 0.1.\n",
      "Average accuracy is: 0.8811290484307646 for data data and collar 0.2.\n",
      "Average accuracy is: 0.8992958518275007 for data data and collar 0.5.\n",
      "Average accuracy is: 0.9146737812272674 for data data and collar 1.\n"
     ]
    }
   ],
   "source": [
    "#for data in ['data', 'data_repeat1', 'data_repeat2', 'data_repeat3', 'data_dsalfine']:\n",
    "for data in ['data']:\n",
    "    for collar in [0, 0.1, 0.2, 0.5, 1]:\n",
    "        _, _, ratio = runBenchmark(data=data, alpha=0.7, collar=collar, verbose=False, sys='hierarchicalDTW_v3.AD')\n",
    "        print(\"Average accuracy is: {} for data {} and collar {}.\".format(ratio, data, collar))"
   ]
  },
  {
   "cell_type": "markdown",
   "metadata": {},
   "source": [
    "### Error Visualization"
   ]
  },
  {
   "cell_type": "code",
   "execution_count": 10,
   "metadata": {},
   "outputs": [],
   "source": [
    "def generateRandomLocs(piece, num):\n",
    "\n",
    "    score_info_dir = '/home/mshan/ttemp/spring2020/data-v2.1/score_info/p{}.scoreinfo.csv'.format(piece)\n",
    "    with open(score_info_dir) as score_info_file:\n",
    "        reader = csv.reader(score_info_file)\n",
    "        next(reader)\n",
    "        rows = []\n",
    "        for row in reader:\n",
    "            rows.append(row)\n",
    "        locs = sorted(random.sample(range(len(rows)-1), num))\n",
    "        \n",
    "    return locs"
   ]
  },
  {
   "cell_type": "code",
   "execution_count": 11,
   "metadata": {},
   "outputs": [],
   "source": [
    "def generateLocDicts(i):\n",
    "    random_locs_2 = {}\n",
    "    random_locs_3 = {}\n",
    "    random_locs_4 = {}\n",
    "    for piece in range(1, 201):\n",
    "        random.seed(piece)\n",
    "        random_locs_2[piece] = generateRandomLocs(piece, 2)\n",
    "        random_locs_3[piece] = generateRandomLocs(piece, 3)\n",
    "        random_locs_4[piece] = generateRandomLocs(piece, 4)\n",
    "    return random_locs_2, random_locs_3, random_locs_4"
   ]
  },
  {
   "cell_type": "code",
   "execution_count": 12,
   "metadata": {},
   "outputs": [],
   "source": [
    "def calDistInfo(i, sys='subseqDTW', data='data'):\n",
    "    with open('/home/mshan/ttemp/data/hyp/{}/{}/p{}.pkl'.format(sys, data, i), 'rb') as f:\n",
    "        d = pickle.load(f)\n",
    "    white = 0\n",
    "    if i in [4, 6, 7, 8, 14, 29, 30, 31, 32, 48, 53, 54, 59, 62, 98, 124, 136, 140, 150, 191, 199]:\n",
    "        white = 1\n",
    "    if i in [133, 138]:\n",
    "        white = 2\n",
    "    accu_time, total_time, accu_info, change_line_info = accuracy(d['actual_time'], i, d['events'], data=data, white=white, wp=d['wp'], )\n",
    "    time_list = [(d['actual_time'][i], d['actual_time'][i+1]) for i in range(len(d['actual_time'])-1)]\n",
    "    return time_list, accu_info, change_line_info"
   ]
  },
  {
   "cell_type": "code",
   "execution_count": 13,
   "metadata": {},
   "outputs": [],
   "source": [
    "def calDistInfoHier(i, sys='hierarchicalDTW_v3.AD', data='data'):\n",
    "    pklfile = '/home/mshan/ttemp/data/hyp/{}/{}/{}/p{}.pkl'.format(sys, data, 0.7, i)\n",
    "    with open(pklfile, 'rb') as f:\n",
    "        d = pickle.load(f)\n",
    "    white = 0\n",
    "    if i in [4, 6, 7, 8, 14, 29, 30, 31, 32, 48, 53, 54, 59, 62, 98, 124, 136, 140, 150, 191, 199]:\n",
    "        white = 1\n",
    "    if i in [133, 138]:\n",
    "        white = 2\n",
    "    accu_time, total_time, accu_info, change_line_info = accuracy(d['actual_time'], i, d['events'], sys=sys, data=data, white=white, pred_lines=d['pred_lines'])\n",
    "    time_list = [(d['actual_time'][i], d['actual_time'][i+1]) for i in range(len(d['actual_time'])-1)]\n",
    "    return time_list, accu_info, change_line_info"
   ]
  },
  {
   "cell_type": "code",
   "execution_count": 24,
   "metadata": {},
   "outputs": [],
   "source": [
    "def errorPlotNoRepeat(i, data='data'):\n",
    "    color = {}\n",
    "    color['c'] = '0.9'\n",
    "    color['w'] = 'red'\n",
    "    color['f'] = 'black'\n",
    "    \n",
    "    time_list1, acc_info1, change_info1 = calDistInfo(i, sys='subseqDTW', data=data)\n",
    "    time_list2, acc_info2, change_info2 = calDistInfo(i, sys='jumpDTW', data=data)\n",
    "    time_list3, acc_info3, change_info3 = calDistInfoHier(i, data=data)\n",
    "    fig, axs = plt.subplots(4, figsize=(30,4))\n",
    "    fig.suptitle('No Repeat', fontsize=25, y=1.05)\n",
    "    for i in range(4):\n",
    "        axs[i].axis('off')\n",
    "        axs[i].axvspan(float(time_list1[0][0]), float(time_list1[-1][1]), color=color['c'])\n",
    "    axs[0].text(-12, 0.3, 'Truth', fontsize=22)\n",
    "    axs[1].text(-12, 0.3, 'subDTW', fontsize=22)\n",
    "    axs[2].text(-12, 0.3, 'jumpDTW', fontsize=22)\n",
    "    axs[3].text(-12, 0.3, 'hierDTW', fontsize=22)\n",
    "    for idx, time in enumerate(time_list1):\n",
    "        axs[1].axvspan(float(time[0]), float(time[1]), color=color[acc_info1[idx]])\n",
    "    for idx, time in enumerate(time_list2):\n",
    "        axs[2].axvspan(float(time[0]), float(time[1]), color=color[acc_info2[idx]])\n",
    "    for idx, time in enumerate(time_list3):\n",
    "        axs[3].axvspan(float(time[0]), float(time[1]), color=color[acc_info3[idx]])\n",
    "        if change_info3[idx] == 'f':\n",
    "            axs[0].axvspan(float(time[0]), float(time[0]), color=color[change_info3[idx]])\n",
    "    return fig"
   ]
  },
  {
   "cell_type": "code",
   "execution_count": 25,
   "metadata": {},
   "outputs": [],
   "source": [
    "def errorPlotRepeat(i, sys='subseqDTW', data='data'):\n",
    "    color = {}\n",
    "    color['c'] = '0.9'\n",
    "    color['w'] = 'red'\n",
    "    color['f'] = 'black'\n",
    "    count_line = 0\n",
    "    time_list1, acc_info1, change_info1 = calDistInfo(i, sys='subseqDTW', data=data)\n",
    "    time_list2, acc_info2, change_info2 = calDistInfo(i, sys='jumpDTW', data=data)\n",
    "    time_list3, acc_info3, change_info3 = calDistInfoHier(i, data=data)\n",
    "    fig, axs = plt.subplots(4, figsize=(30,4))\n",
    "    fig.suptitle('Repeat 3', fontsize=25, y=1.05)\n",
    "    for i in range(4):\n",
    "        axs[i].axis('off')\n",
    "        axs[i].axvspan(float(time_list1[0][0]), float(time_list1[-1][1]), color=color['c'])\n",
    "    axs[0].text(-30, 0.3, 'Truth', fontsize=22)\n",
    "    axs[1].text(-30, 0.3, 'subDTW', fontsize=22)\n",
    "    axs[2].text(-30, 0.3, 'jumpDTW', fontsize=22)\n",
    "    axs[3].text(-30, 0.3, 'hierDTW', fontsize=22)\n",
    "    for idx, time in enumerate(time_list1):\n",
    "        axs[1].axvspan(float(time[0]), float(time[1]), color=color[acc_info1[idx]])\n",
    "    for idx, time in enumerate(time_list2):\n",
    "        axs[2].axvspan(float(time[0]), float(time[1]), color=color[acc_info2[idx]])\n",
    "    for idx, time in enumerate(time_list3):\n",
    "        axs[3].axvspan(float(time[0]), float(time[1]), color=color[acc_info3[idx]])\n",
    "        if change_info3[idx] == 'f':\n",
    "            count_line += 1\n",
    "            if data == 'data_repeat3' and count_line in [10,13,31]:\n",
    "                axs[0].axvline(float(time[0]), linestyle='--', linewidth=6, color='blue')\n",
    "            else:\n",
    "                axs[0].axvspan(float(time[0]), float(time[0]), color=color[change_info3[idx]])\n",
    "    return fig"
   ]
  },
  {
   "cell_type": "code",
   "execution_count": 26,
   "metadata": {},
   "outputs": [
    {
     "data": {
      "image/png": "[encoded data removed]",
      "text/plain": [
       "<Figure size 2160x288 with 4 Axes>"
      ]
     },
     "metadata": {
      "needs_background": "light"
     },
     "output_type": "display_data"
    },
    {
     "data": {
      "image/png": "[encoded data removed]",
      "text/plain": [
       "<Figure size 2160x288 with 4 Axes>"
      ]
     },
     "metadata": {
      "needs_background": "light"
     },
     "output_type": "display_data"
    }
   ],
   "source": [
    "fig1 = errorPlotNoRepeat(4)\n",
    "fig2 = errorPlotRepeat(48, data='data_repeat3')"
   ]
  },
  {
   "cell_type": "markdown",
   "metadata": {},
   "source": [
    "### Error Analysis"
   ]
  },
  {
   "cell_type": "code",
   "execution_count": 335,
   "metadata": {},
   "outputs": [],
   "source": [
    "piece = 4\n",
    "with open('/home/mshan/ttemp/data/bscore_sheet/p{}.pkl'.format(piece), 'rb') as f:\n",
    "    d = pickle.load(f)\n",
    "    events = d['events']\n",
    "with open('/home/mshan/ttemp/data/hyp/hierarchicalDTW_v3.AD/{}/0.7/p{}.pkl'.format('data', piece), 'rb') as f:\n",
    "    d = pickle.load(f)\n",
    "    times = d['actual_time']\n",
    "    lines = d['pred_lines']"
   ]
  },
  {
   "cell_type": "code",
   "execution_count": 336,
   "metadata": {},
   "outputs": [
    {
     "name": "stdout",
     "output_type": "stream",
     "text": [
      "P21L1 starts at 0.0.\n",
      "P21L2 starts at 4.800000000000001.\n",
      "P21L3 starts at 9.4.\n",
      "P21L4 starts at 13.8.\n",
      "P21L5 starts at 19.3.\n",
      "P21L6 starts at 24.400000000000002.\n",
      "P22L1 starts at 29.5.\n",
      "P22L2 starts at 34.2.\n",
      "P22L3 starts at 39.400000000000006.\n",
      "P22L4 starts at 44.400000000000006.\n",
      "P22L5 starts at 49.2.\n",
      "P23L1 starts at 53.7.\n",
      "P23L2 starts at 59.0.\n",
      "P23L3 starts at 64.2.\n",
      "P23L4 starts at 70.4.\n",
      "P23L5 starts at 74.9.\n",
      "P24L1 starts at 79.7.\n",
      "P24L2 starts at 85.10000000000001.\n",
      "P24L3 starts at 90.30000000000001.\n",
      "P24L4 starts at 95.2.\n",
      "P24L5 starts at 100.4.\n",
      "P24L6 starts at 104.0.\n",
      "P25L1 starts at 109.10000000000001.\n",
      "P25L2 starts at 114.5.\n",
      "P25L3 starts at 119.7.\n",
      "P25L4 starts at 123.10000000000001.\n",
      "P25L5 starts at 127.9.\n",
      "P25L6 starts at 132.6.\n"
     ]
    }
   ],
   "source": [
    "bounds = getBoundaryElements(piece, \"F\")\n",
    "prev_line = -1\n",
    "for idx, line in enumerate(lines):\n",
    "    if line != prev_line:\n",
    "        start_idx = bounds[line]\n",
    "        start_event = events[start_idx]\n",
    "        print(\"P{}L{} starts at {}.\".format(start_event[5]+1, start_event[2]+1, times[idx]))\n",
    "    prev_line = line"
   ]
  },
  {
   "cell_type": "code",
   "execution_count": null,
   "metadata": {},
   "outputs": [],
   "source": []
  }
 ],
 "metadata": {
  "kernelspec": {
   "display_name": "Python 3",
   "language": "python",
   "name": "python3"
  },
  "language_info": {
   "codemirror_mode": {
    "name": "ipython",
    "version": 3
   },
   "file_extension": ".py",
   "mimetype": "text/x-python",
   "name": "python",
   "nbconvert_exporter": "python",
   "pygments_lexer": "ipython3",
   "version": "3.5.2"
  }
 },
 "nbformat": 4,
 "nbformat_minor": 4
}
