{
 "cells": [
  {
   "cell_type": "code",
   "execution_count": 12,
   "metadata": {},
   "outputs": [
    {
     "name": "stdout",
     "output_type": "stream",
     "text": [
      "The Cython extension is already loaded. To reload it, use:\n",
      "  %reload_ext Cython\n"
     ]
    }
   ],
   "source": [
    "%matplotlib inline\n",
    "%load_ext Cython"
   ]
  },
  {
   "cell_type": "code",
   "execution_count": 13,
   "metadata": {},
   "outputs": [],
   "source": [
    "import numpy as np\n",
    "from numpy.matlib import repmat\n",
    "import matplotlib.pyplot as plt\n",
    "from PIL import Image, ImageFilter, ImageChops\n",
    "import cv2\n",
    "import glob\n",
    "from skimage import filters, measure\n",
    "from skimage.measure import label, regionprops\n",
    "from skimage.color import label2rgb\n",
    "from sklearn.cluster import KMeans\n",
    "import matplotlib.patches as mpatches\n",
    "from scipy.signal import convolve2d\n",
    "from scipy.spatial import KDTree\n",
    "import seaborn as sns\n",
    "import pickle\n",
    "import librosa as lb\n",
    "import time\n",
    "import cProfile\n",
    "import os\n",
    "import os.path\n",
    "import pyximport; pyximport.install()\n",
    "import multiprocessing\n",
    "import math\n",
    "import time\n",
    "import librosa\n",
    "import csv"
   ]
  },
  {
   "cell_type": "code",
   "execution_count": 14,
   "metadata": {},
   "outputs": [],
   "source": [
    "### system parameters ###\n",
    "\n",
    "# Alignment\n",
    "dtw_steps = [1,1,1,2,2,1] # dtw\n",
    "dtw_weights = [1,1,2]\n",
    "\n",
    "##########################"
   ]
  },
  {
   "cell_type": "code",
   "execution_count": 15,
   "metadata": {},
   "outputs": [],
   "source": [
    "def loadMidiBootlegScore(pkl_file):\n",
    "    with open(pkl_file, 'rb') as f:\n",
    "        d = pickle.load(f)\n",
    "    bscore = d['bscore']\n",
    "    miditimes = d['times']\n",
    "    num_notes = np.array(d['num_notes'])\n",
    "    stafflines = d['stafflines']\n",
    "    return bscore, miditimes, num_notes, stafflines"
   ]
  },
  {
   "cell_type": "code",
   "execution_count": 16,
   "metadata": {},
   "outputs": [],
   "source": [
    "def loadSheetBootlegScore(pkl_file):\n",
    "    with open(pkl_file, 'rb') as f:\n",
    "        d = pickle.load(f)\n",
    "    bscore = d['bscore']\n",
    "    events = d['events']\n",
    "    return bscore, events"
   ]
  },
  {
   "cell_type": "code",
   "execution_count": 35,
   "metadata": {},
   "outputs": [],
   "source": [
    "def costMetric(X,Y):\n",
    "    cost = -1 * np.dot(X,Y)\n",
    "    return cost"
   ]
  },
  {
   "cell_type": "code",
   "execution_count": 36,
   "metadata": {},
   "outputs": [],
   "source": [
    "def normalizedCostMetric(Q, R, numQueryNotes, numRefNotes):\n",
    "    cost = -1 * np.matmul(Q.T, R)\n",
    "    query_norm_factor = repmat(numQueryNotes.reshape((-1,1)), 1, R.shape[1])\n",
    "    ref_norm_factor = repmat(numRefNotes.reshape((1,-1)), Q.shape[1], 1)\n",
    "    norm_factor = np.maximum(query_norm_factor, ref_norm_factor) + 1e-8 # avoid divide by 0\n",
    "    norm_cost = cost / norm_factor\n",
    "    return norm_cost"
   ]
  },
  {
   "cell_type": "code",
   "execution_count": 37,
   "metadata": {},
   "outputs": [],
   "source": [
    "def alignBootlegScores(query, ref, numRefNotes, steps = [1,1,1,2,2,1], weights = [1,1,2], optimized=True):\n",
    "    if optimized: # Cython implementation\n",
    "        # set params\n",
    "        assert len(steps) % 2 == 0, \"The length of steps must be even.\"\n",
    "        dn = np.array(steps[::2], dtype=np.uint32)\n",
    "        dm = np.array(steps[1::2], dtype=np.uint32)\n",
    "        dw = weights\n",
    "        subsequence = True\n",
    "        parameter = {'dn': dn, 'dm': dm, 'dw': dw, 'SubSequence': subsequence}\n",
    "\n",
    "        # Compute cost matrix\n",
    "        #cost = costMetric(query.T, ref)\n",
    "        numQueryNotes = np.sum(query, axis=0)\n",
    "        cost = normalizedCostMetric(query, ref, numQueryNotes, numRefNotes)\n",
    "\n",
    "        # DTW\n",
    "        [D, s] = DTW_Cost_To_AccumCostAndSteps(cost, parameter)\n",
    "        [wp, endCol, endCost] = DTW_GetPath(D, s, parameter)\n",
    "\n",
    "        # Reformat the output\n",
    "        wp = wp.T[::-1]\n",
    "    else: # librosa implementation\n",
    "        steps = np.array(steps).reshape((-1,2))\n",
    "        D, wp = lb.sequence.dtw(query, ref, step_sizes_sigma = steps, weights_mul = weights, subseq = True, metric = costMetric)\n",
    "    return D, wp"
   ]
  },
  {
   "cell_type": "code",
   "execution_count": 38,
   "metadata": {},
   "outputs": [],
   "source": [
    "%%cython\n",
    "import numpy as np\n",
    "cimport numpy as np\n",
    "cimport cython\n",
    "\n",
    "import sys\n",
    "import time\n",
    "\n",
    "\n",
    "DTYPE_INT32 = np.int32\n",
    "ctypedef np.int32_t DTYPE_INT32_t\n",
    "\n",
    "DTYPE_FLOAT = np.float64\n",
    "ctypedef np.float64_t DTYPE_FLOAT_t\n",
    "\n",
    "cdef DTYPE_FLOAT_t MAX_FLOAT = float('inf')\n",
    "\n",
    "# careful, without bounds checking can mess up memory - also can't use negative indices I think (like x[-1])\n",
    "@cython.boundscheck(False) # turn off bounds-checking for entire function\n",
    "def DTW_Cost_To_AccumCostAndSteps(Cin, parameter):\n",
    "    '''\n",
    "    Inputs\n",
    "        C: The cost Matrix\n",
    "    '''\n",
    "\n",
    "\n",
    "    '''\n",
    "    Section for checking and catching errors in the inputs\n",
    "    '''\n",
    "\n",
    "    cdef np.ndarray[DTYPE_FLOAT_t, ndim=2] C\n",
    "    try:\n",
    "        C = np.array(Cin, dtype=DTYPE_FLOAT)\n",
    "    except TypeError:\n",
    "        print(bcolors.FAIL + \"FAILURE: The type of the cost matrix is wrong - please pass in a 2-d numpy array\" + bcolors.ENDC)\n",
    "        return [-1, -1, -1]\n",
    "    except ValueError:\n",
    "        print(bcolors.FAIL + \"FAILURE: The type of the elements in the cost matrix is wrong - please have each element be a float (perhaps you passed in a matrix of ints?)\" + bcolors.ENDC)\n",
    "        return [-1, -1, -1]\n",
    "\n",
    "    cdef np.ndarray[np.uint32_t, ndim=1] dn\n",
    "    cdef np.ndarray[np.uint32_t, ndim=1] dm\n",
    "    cdef np.ndarray[DTYPE_FLOAT_t, ndim=1] dw\n",
    "    # make sure dn, dm, and dw are setup\n",
    "    # dn loading and exception handling\n",
    "    if ('dn'  in parameter.keys()):\n",
    "        try:\n",
    "\n",
    "            dn = np.array(parameter['dn'], dtype=np.uint32)\n",
    "        except TypeError:\n",
    "            print(bcolors.FAIL + \"FAILURE: The type of dn (row steps) is wrong - please pass in a 1-d numpy array that holds uint32s\" + bcolors.ENDC)\n",
    "            return [-1, -1, -1]\n",
    "        except ValueError:\n",
    "            print(bcolors.FAIL + \"The type of the elements in dn (row steps) is wrong - please have each element be a uint32 (perhaps you passed a long?). You can specify this when making a numpy array like: np.array([1,2,3],dtype=np.uint32)\" + bcolors.ENDC)\n",
    "            return [-1, -1, -1]\n",
    "    else:\n",
    "        dn = np.array([1, 1, 0], dtype=np.uint32)\n",
    "    # dm loading and exception handling\n",
    "    if 'dm'  in parameter.keys():\n",
    "        try:\n",
    "            dm = np.array(parameter['dm'], dtype=np.uint32)\n",
    "        except TypeError:\n",
    "            print(bcolors.FAIL + \"FAILURE: The type of dm (col steps) is wrong - please pass in a 1-d numpy array that holds uint32s\" + bcolors.ENDC)\n",
    "            return [-1, -1, -1]\n",
    "        except ValueError:\n",
    "            print(bcolors.FAIL + \"FAILURE: The type of the elements in dm (col steps) is wrong - please have each element be a uint32 (perhaps you passed a long?). You can specify this when making a numpy array like: np.array([1,2,3],dtype=np.uint32)\" + bcolors.ENDC)\n",
    "            return [-1, -1, -1]\n",
    "    else:\n",
    "        print(bcolors.FAIL + \"dm (col steps) was not passed in (gave default value [1,0,1]) \" + bcolors.ENDC)\n",
    "        dm = np.array([1, 0, 1], dtype=np.uint32)\n",
    "    # dw loading and exception handling\n",
    "    if 'dw'  in parameter.keys():\n",
    "        try:\n",
    "            dw = np.array(parameter['dw'], dtype=DTYPE_FLOAT)\n",
    "        except TypeError:\n",
    "            print(bcolors.FAIL + \"FAILURE: The type of dw (step weights) is wrong - please pass in a 1-d numpy array that holds floats\" + bcolors.ENDC)\n",
    "            return [-1, -1, -1]\n",
    "        except ValueError:\n",
    "            print(bcolors.FAIL + \"FAILURE:The type of the elements in dw (step weights) is wrong - please have each element be a float (perhaps you passed ints or a long?). You can specify this when making a numpy array like: np.array([1,2,3],dtype=np.float64)\" + bcolors.ENDC)\n",
    "            return [-1, -1, -1]\n",
    "    else:\n",
    "        dw = np.array([1, 1, 1], dtype=DTYPE_FLOAT)\n",
    "        print(bcolors.FAIL + \"dw (step weights) was not passed in (gave default value [1,1,1]) \" + bcolors.ENDC)\n",
    "\n",
    "    \n",
    "    '''\n",
    "    Section where types are given to the variables we're going to use \n",
    "    '''\n",
    "    # create matrices to store our results (D and E)\n",
    "    cdef DTYPE_INT32_t numRows = C.shape[0] # only works with np arrays, use np.shape(x) will work on lists? want to force to use np though?\n",
    "    cdef DTYPE_INT32_t numCols = C.shape[1]\n",
    "    cdef DTYPE_INT32_t numDifSteps = np.size(dw)\n",
    "\n",
    "    cdef unsigned int maxRowStep = max(dn)\n",
    "    cdef unsigned int maxColStep = max(dm)\n",
    "\n",
    "    cdef np.ndarray[np.uint32_t, ndim=2] steps = np.zeros((numRows,numCols), dtype=np.uint32)\n",
    "    cdef np.ndarray[DTYPE_FLOAT_t, ndim=2] accumCost = np.ones((maxRowStep + numRows, maxColStep + numCols), dtype=DTYPE_FLOAT) * MAX_FLOAT\n",
    "\n",
    "    cdef DTYPE_FLOAT_t bestCost\n",
    "    cdef DTYPE_INT32_t bestCostIndex\n",
    "    cdef DTYPE_FLOAT_t costForStep\n",
    "    cdef unsigned int row, col\n",
    "    cdef unsigned int stepIndex\n",
    "\n",
    "    '''\n",
    "    The start of the actual algorithm, now that all our variables are set up\n",
    "    '''\n",
    "    # initializing the cost matrix - depends on whether its subsequence DTW\n",
    "    # essentially allow us to hop on the bottom anywhere (so could start partway through one of the signals)\n",
    "    if parameter['SubSequence']:\n",
    "        for col in range(numCols):\n",
    "            accumCost[maxRowStep, col + maxColStep] = C[0, col]\n",
    "    else:\n",
    "        accumCost[maxRowStep, maxColStep] = C[0,0]\n",
    "\n",
    "    # filling the accumulated cost matrix\n",
    "    for row in range(maxRowStep, numRows + maxRowStep, 1):\n",
    "        for col in range(maxColStep, numCols + maxColStep, 1):\n",
    "            bestCost = accumCost[<unsigned int>row, <unsigned int>col] # initialize with what's there - so if is an entry point, then can start low\n",
    "            bestCostIndex = 0\n",
    "            # go through each step, find the best one\n",
    "            for stepIndex in range(numDifSteps):\n",
    "                #costForStep = accumCost[<unsigned int>(row - dn[<unsigned int>(stepIndex)]), <unsigned int>(col - dm[<unsigned int>(stepIndex)])] + dw[<unsigned int>(stepIndex)] * C[<unsigned int>(row - maxRowStep), <unsigned int>(col - maxColStep)]\n",
    "                costForStep = accumCost[<unsigned int>((row - dn[(stepIndex)])), <unsigned int>((col - dm[(stepIndex)]))] + dw[stepIndex] * C[<unsigned int>(row - maxRowStep), <unsigned int>(col - maxColStep)]\n",
    "                if costForStep < bestCost:\n",
    "                    bestCost = costForStep\n",
    "                    bestCostIndex = stepIndex\n",
    "            # save the best cost and best cost index\n",
    "            accumCost[row, col] = bestCost\n",
    "            steps[<unsigned int>(row - maxRowStep), <unsigned int>(col - maxColStep)] = bestCostIndex\n",
    "\n",
    "    # return the accumulated cost along with the matrix of steps taken to achieve that cost\n",
    "    return [accumCost[maxRowStep:, maxColStep:], steps]\n",
    "\n",
    "@cython.boundscheck(False) # turn off bounds-checking for entire function\n",
    "def DTW_GetPath(np.ndarray[DTYPE_FLOAT_t, ndim=2] accumCost, np.ndarray[np.uint32_t, ndim=2] stepsForCost, parameter):\n",
    "    '''\n",
    "\n",
    "    Parameter should have: 'dn', 'dm', 'dw', 'SubSequence'\n",
    "    '''\n",
    "\n",
    "    cdef np.ndarray[unsigned int, ndim=1] dn\n",
    "    cdef np.ndarray[unsigned int, ndim=1] dm\n",
    "    cdef np.uint8_t subseq\n",
    "    # make sure dn, dm, and dw are setup\n",
    "    if ('dn'  in parameter.keys()):\n",
    "        dn = parameter['dn']\n",
    "    else:\n",
    "        dn = np.array([1, 1, 0], dtype=DTYPE_INT32)\n",
    "    if 'dm'  in parameter.keys():\n",
    "        dm = parameter['dm']\n",
    "    else:\n",
    "        dm = np.array([1, 0, 1], dtype=DTYPE_INT32)\n",
    "    if 'SubSequence' in parameter.keys():\n",
    "        subseq = parameter['SubSequence']\n",
    "    else:\n",
    "        subseq = 0\n",
    "\n",
    "    cdef np.uint32_t numRows\n",
    "    cdef np.uint32_t numCols\n",
    "    cdef np.uint32_t curRow\n",
    "    cdef np.uint32_t curCol\n",
    "    cdef np.uint32_t endCol\n",
    "    cdef DTYPE_FLOAT_t endCost\n",
    "\n",
    "    numRows = accumCost.shape[0]\n",
    "    numCols = accumCost.shape[1]\n",
    "\n",
    "    # either start at the far corner (non sub-sequence)\n",
    "    # or start at the lowest cost entry in the last row (sub-sequence)\n",
    "    # where all of the signal along the row has been used, but only a \n",
    "    # sub-sequence of the signal along the columns has to be used\n",
    "    curRow = numRows - 1\n",
    "    if subseq:\n",
    "        curCol = np.argmin(accumCost[numRows - 1, :])\n",
    "    else:\n",
    "        curCol = numCols - 1\n",
    "\n",
    "    endCol = curCol\n",
    "    endCost = accumCost[curRow, curCol]\n",
    "\n",
    "    cdef np.uint32_t curRowStep\n",
    "    cdef np.uint32_t curColStep\n",
    "    cdef np.uint32_t curStepIndex\n",
    "\n",
    "\n",
    "    cdef np.ndarray[np.uint32_t, ndim=2] path = np.zeros((2, numRows + numCols), dtype=np.uint32) # make as large as could need, then chop at the end\n",
    "    path[0, 0] = curRow\n",
    "    path[1, 0] = curCol\n",
    "\n",
    "    cdef np.uint32_t stepsInPath = 1 # starts at one, we add in one before looping\n",
    "    cdef np.uint32_t stepIndex = 0\n",
    "    cdef np.int8_t done = (subseq and curRow == 0) or (curRow == 0 and curCol == 0)\n",
    "    while not done:\n",
    "        if accumCost[curRow, curCol] == MAX_FLOAT:\n",
    "            print('A path is not possible')\n",
    "            break\n",
    "\n",
    "        # you're done if you've made it to the bottom left (non sub-sequence)\n",
    "        # or just the bottom (sub-sequence)\n",
    "        # find the step size\n",
    "        curStepIndex = stepsForCost[curRow, curCol]\n",
    "        curRowStep = dn[curStepIndex]\n",
    "        curColStep = dm[curStepIndex]\n",
    "        # backtrack by 1 step\n",
    "        curRow = curRow - curRowStep\n",
    "        curCol = curCol - curColStep\n",
    "        # add your new location onto the path\n",
    "        path[0, stepsInPath] = curRow\n",
    "        path[1, stepsInPath] = curCol\n",
    "        stepsInPath = stepsInPath + 1\n",
    "        # check to see if you're done\n",
    "        done = (subseq and curRow == 0) or (curRow == 0 and curCol == 0)\n",
    "\n",
    "    # reverse the path (a matrix with two rows) and return it\n",
    "    return [np.fliplr(path[:, 0:stepsInPath]), endCol, endCost]\n",
    "\n",
    "class bcolors:\n",
    "    HEADER = '\\033[95m'\n",
    "    OKBLUE = '\\033[94m'\n",
    "    OKGREEN = '\\033[92m'\n",
    "    WARNING = '\\033[93m'\n",
    "    FAIL = '\\033[91m'\n",
    "    ENDC = '\\033[0m'\n",
    "    BOLD = '\\033[1m'\n",
    "    UNDERLINE = '\\033[4m'"
   ]
  },
  {
   "cell_type": "code",
   "execution_count": 350,
   "metadata": {},
   "outputs": [],
   "source": [
    "def getLineFromAnnot(time, piece, data):\n",
    "    with open('/home/mshan/ttemp/{}/timeAnnot/p{}.timeannot.csv'.format(data, piece)) as csvfile:\n",
    "        reader = csv.reader(csvfile)\n",
    "        last_row = []\n",
    "        for row in reader:\n",
    "            if float(row[1]) <= time and float(row[2]) > time:\n",
    "                page = int(row[0].split('L')[0][1:])\n",
    "                line_on_page = int(row[0].split('L')[1])\n",
    "                return page, line_on_page\n",
    "            last_row = row\n",
    "        page = int(last_row[0].split('L')[0][1:])\n",
    "        line_on_page = int(last_row[0].split('L')[1])\n",
    "        return page, line_on_page"
   ]
  },
  {
   "cell_type": "code",
   "execution_count": 351,
   "metadata": {},
   "outputs": [],
   "source": [
    "def getPixel(page, line_on_page, piece):\n",
    "    with open('/home/mshan/ttemp/data/lineAnnot/p{}.lineinfo.csv'.format(piece)) as csvfile:\n",
    "        reader = csv.reader(csvfile)\n",
    "        rows = []\n",
    "        for row in reader:\n",
    "            if row[0] == 'P{}L{}'.format(page, line_on_page):\n",
    "                return int(row[1]), int(row[2])\n",
    "        return -1, -1"
   ]
  },
  {
   "cell_type": "code",
   "execution_count": 529,
   "metadata": {},
   "outputs": [],
   "source": [
    "def accuracy(time, wp, piece, events, tol, data, white=0):\n",
    "    accu_time = 0\n",
    "    accu_info = []\n",
    "    change_line_info = []\n",
    "    dist_info = []\n",
    "    prev_line = 1\n",
    "    total_time = time[-1] - time[0]\n",
    "    for i in range(len(time)-1):\n",
    "        is_accurate = False\n",
    "        time_point = time[i]\n",
    "        page, line_on_page = getLineFromAnnot(time_point, piece, data)\n",
    "        start, end = getPixel(page, line_on_page, piece)\n",
    "        \n",
    "        if line_on_page == prev_line:\n",
    "            change_line_info.append('c')\n",
    "        else:\n",
    "            change_line_info.append('f')\n",
    "        prev_line = line_on_page\n",
    "        \n",
    "        if line_on_page == 1:\n",
    "            prev_end = 0\n",
    "            prev_page = -1\n",
    "        else:\n",
    "            prev_page = page\n",
    "            _, prev_end = getPixel(page, line_on_page - 1, piece)\n",
    "        \n",
    "        if getPixel(page, line_on_page + 1, piece)[0] == -1:\n",
    "            next_start = math.inf\n",
    "            next_page = -1\n",
    "        else:\n",
    "            next_page = page\n",
    "            _, next_start = getPixel(next_page, line_on_page + 1, piece)\n",
    "        \n",
    "        if events[wp[i][1]][5] == page - white:\n",
    "            cur_start = events[wp[i][1]][3]\n",
    "            cur_end = events[wp[i][1]][4]\n",
    "            if cur_start < start+tol and cur_end > end-tol:\n",
    "                if (page != prev_page or cur_start > prev_end + tol) and (page != next_page or cur_end < next_start - tol):\n",
    "                    accu_time += time[i+1]-time[i]\n",
    "                    accu_info.append('c')\n",
    "                    is_accurate = True\n",
    "            else:\n",
    "                start_error = cur_start - start\n",
    "                end_error = end - cur_end\n",
    "                if start_error < 0:\n",
    "                    dist_info.append(-end_error)\n",
    "                elif end_error > 0:\n",
    "                    dist_info.append(start_error)\n",
    "                elif abs(start_error) > abs(end_error):\n",
    "                    dist_info.append(start_error)\n",
    "                else:\n",
    "                    dist_info.append(-end_error)\n",
    "        if not is_accurate:\n",
    "            accu_info.append('w')\n",
    "            \n",
    "    return accu_time/total_time, accu_info, change_line_info, dist_info"
   ]
  },
  {
   "cell_type": "markdown",
   "metadata": {},
   "source": [
    "### Experiments"
   ]
  },
  {
   "cell_type": "code",
   "execution_count": 530,
   "metadata": {},
   "outputs": [],
   "source": [
    "def runBenchmark(tol, data):\n",
    "    acc_list = []\n",
    "    for i in range(1, 2):\n",
    "        if str(i)[-1] in ['1','5'] and i != 111:\n",
    "            bscore_midi, miditimes, _, stafflines = loadMidiBootlegScore('/home/mshan/ttemp/{}/bscore/p{}.pkl' .format(data, i))\n",
    "            bscore_sheet, events = loadSheetBootlegScore('/home/mshan/ttemp/{}/bscore_sheet/p{}.pkl'.format(data, i))\n",
    "            num_notes = np.asarray([len(event[0]) for event in events])\n",
    "            \n",
    "            white_p = 0\n",
    "            if num_notes.shape[0] != bscore_sheet.shape[1]:\n",
    "                bscore_sheet = bscore_sheet[:, 1:]\n",
    "                if i!=81:\n",
    "                    white_p = 1\n",
    "                print('Add a white page factor here, need to revise later!')\n",
    "                \n",
    "            D, wp = alignBootlegScores(bscore_midi, bscore_sheet, num_notes, dtw_steps, dtw_weights)\n",
    "            new_wp = wp[::-1] \n",
    "            times = [miditime[0] for miditime in miditimes]\n",
    "            midi_frame = [wps[0] for wps in new_wp]\n",
    "            actual_time = [times[k] for k in midi_frame]\n",
    "            acc = accuracy(actual_time, new_wp, i, events, tol, data, white=white_p)\n",
    "            \n",
    "            if math.isnan(acc):\n",
    "                acc = 0\n",
    "            acc_list.append(acc)\n",
    "            \n",
    "            print(\"Accuracy is {} for piece {}.\".format(acc, i))\n",
    "    return acc_list"
   ]
  },
  {
   "cell_type": "code",
   "execution_count": 531,
   "metadata": {},
   "outputs": [
    {
     "ename": "AttributeError",
     "evalue": "'tuple' object has no attribute 'time'",
     "output_type": "error",
     "traceback": [
      "\u001b[0;31m---------------------------------------------------------------------------\u001b[0m",
      "\u001b[0;31mAttributeError\u001b[0m                            Traceback (most recent call last)",
      "\u001b[0;32m<ipython-input-531-08566509f079>\u001b[0m in \u001b[0;36m<module>\u001b[0;34m\u001b[0m\n\u001b[0;32m----> 1\u001b[0;31m \u001b[0mstart\u001b[0m \u001b[0;34m=\u001b[0m \u001b[0mtime\u001b[0m\u001b[0;34m.\u001b[0m\u001b[0mtime\u001b[0m\u001b[0;34m(\u001b[0m\u001b[0;34m)\u001b[0m\u001b[0;34m\u001b[0m\u001b[0m\n\u001b[0m\u001b[1;32m      2\u001b[0m \u001b[0macc_list\u001b[0m \u001b[0;34m=\u001b[0m \u001b[0mrunBenchmark\u001b[0m\u001b[0;34m(\u001b[0m\u001b[0;36m100\u001b[0m\u001b[0;34m,\u001b[0m \u001b[0;34m'data_dsalfine'\u001b[0m\u001b[0;34m)\u001b[0m\u001b[0;34m\u001b[0m\u001b[0m\n\u001b[1;32m      3\u001b[0m \u001b[0mprint\u001b[0m\u001b[0;34m(\u001b[0m\u001b[0mtime\u001b[0m\u001b[0;34m.\u001b[0m\u001b[0mtime\u001b[0m\u001b[0;34m(\u001b[0m\u001b[0;34m)\u001b[0m\u001b[0;34m-\u001b[0m\u001b[0mstart\u001b[0m\u001b[0;34m)\u001b[0m\u001b[0;34m\u001b[0m\u001b[0m\n",
      "\u001b[0;31mAttributeError\u001b[0m: 'tuple' object has no attribute 'time'"
     ]
    }
   ],
   "source": [
    "start = time.time()\n",
    "acc_list = runBenchmark(100, 'data_dsalfine')\n",
    "print(time.time()-start)"
   ]
  },
  {
   "cell_type": "code",
   "execution_count": 524,
   "metadata": {},
   "outputs": [
    {
     "ename": "TypeError",
     "evalue": "unsupported operand type(s) for +: 'int' and 'tuple'",
     "output_type": "error",
     "traceback": [
      "\u001b[0;31m---------------------------------------------------------------------------\u001b[0m",
      "\u001b[0;31mTypeError\u001b[0m                                 Traceback (most recent call last)",
      "\u001b[0;32m<ipython-input-524-3a3bb0c42ff4>\u001b[0m in \u001b[0;36m<module>\u001b[0;34m\u001b[0m\n\u001b[0;32m----> 1\u001b[0;31m \u001b[0msum\u001b[0m\u001b[0;34m(\u001b[0m\u001b[0macc_list\u001b[0m\u001b[0;34m)\u001b[0m\u001b[0;34m/\u001b[0m\u001b[0mlen\u001b[0m\u001b[0;34m(\u001b[0m\u001b[0macc_list\u001b[0m\u001b[0;34m)\u001b[0m\u001b[0;34m\u001b[0m\u001b[0m\n\u001b[0m",
      "\u001b[0;31mTypeError\u001b[0m: unsupported operand type(s) for +: 'int' and 'tuple'"
     ]
    }
   ],
   "source": [
    "sum(acc_list)/len(acc_list)"
   ]
  },
  {
   "cell_type": "code",
   "execution_count": 339,
   "metadata": {},
   "outputs": [
    {
     "data": {
      "text/plain": [
       "0.7356047202379276"
      ]
     },
     "execution_count": 339,
     "metadata": {},
     "output_type": "execute_result"
    }
   ],
   "source": [
    "28.688584089279175/len(acc_list)"
   ]
  },
  {
   "cell_type": "code",
   "execution_count": 340,
   "metadata": {},
   "outputs": [],
   "source": [
    "d = {}\n",
    "t = {}\n",
    "d['data'] = 0.8739323597238654\n",
    "t['data'] = 0.5644873655759372\n",
    "d['data_repeat1'] = 0.5575828329709029\n",
    "t['data_repeat1'] = 0.8729834067515838\n",
    "d['data_repeat2'] = 0.45348108216585725\n",
    "t['data_repeat2'] = 0.8391414055457482\n",
    "d['data_repeat3'] = 0.31692008248109915\n",
    "t['data_repeat3'] = 0.9715627706967868\n",
    "d['data_dsalfine'] = 0.6121050678023833\n",
    "t['data_dsalfine'] = 0.7356047202379276"
   ]
  },
  {
   "cell_type": "code",
   "execution_count": 418,
   "metadata": {},
   "outputs": [
    {
     "data": {
      "image/png": "[encoded data removed]",
      "text/plain": [
       "<Figure size 576x396 with 1 Axes>"
      ]
     },
     "metadata": {},
     "output_type": "display_data"
    }
   ],
   "source": [
    "plt.hist(acc_list, bins='auto', rwidth=0.8)\n",
    "plt.ylabel('Count');\n",
    "plt.xlabel('Accuracy');"
   ]
  },
  {
   "cell_type": "markdown",
   "metadata": {},
   "source": [
    "#### Visualize the error"
   ]
  },
  {
   "cell_type": "code",
   "execution_count": 525,
   "metadata": {},
   "outputs": [],
   "source": [
    "def calDistInfo(i, data='data'):\n",
    "    bscore_midi, miditimes, _, stafflines = loadMidiBootlegScore('/home/mshan/ttemp/{}/bscore/p{}.pkl' .format(data, i))\n",
    "    bscore_sheet, events = loadSheetBootlegScore('/home/mshan/ttemp/{}/bscore_sheet/p{}.pkl'.format(data, i))\n",
    "    num_notes = np.asarray([len(event[0]) for event in events])\n",
    "    \n",
    "    white_p = 0\n",
    "    if num_notes.shape[0] != bscore_sheet.shape[1]:\n",
    "        bscore_sheet = bscore_sheet[:, 1:]\n",
    "        if i!=81:\n",
    "            white_p = 1\n",
    "        print('Add a white page factor here, need to revise later!')  \n",
    "                \n",
    "    D, wp = alignBootlegScores(bscore_midi, bscore_sheet, num_notes, dtw_steps, dtw_weights)\n",
    "    new_wp = wp[::-1] \n",
    "    times = [miditime[0] for miditime in miditimes]\n",
    "    midi_frame = [wps[0] for wps in new_wp]\n",
    "    actual_time = [times[k] for k in midi_frame]\n",
    "    acc, acc_info, change_info, dist_info = accuracy(actual_time, new_wp, i, events, 100, data, white=white_p)\n",
    "    time_list = [(actual_time[i], actual_time[i+1]) for i in range(len(actual_time)-1)]\n",
    "    return time_list, acc_info, change_info, dist_info"
   ]
  },
  {
   "cell_type": "code",
   "execution_count": 509,
   "metadata": {},
   "outputs": [
    {
     "data": {
      "image/png": "[encoded data removed]",
      "text/plain": [
       "<Figure size 2160x144 with 2 Axes>"
      ]
     },
     "metadata": {
      "needs_background": "light"
     },
     "output_type": "display_data"
    }
   ],
   "source": [
    "color = {}\n",
    "color['c'] = 'gray'\n",
    "color['w'] = 'red'\n",
    "color['f'] = 'yellow'\n",
    "\n",
    "time_list, acc_info, change_info, dist_info = calDistInfo(1)\n",
    "\n",
    "fig, axs = plt.subplots(2, figsize=(30,2))\n",
    "axs[0].axis('off')\n",
    "axs[1].axis('off')\n",
    "for idx, time in enumerate(time_list):\n",
    "    axs[0].axvspan(float(time[0]), float(time[1]), alpha=1, color=color[acc_info[idx]])\n",
    "    axs[1].axvspan(float(time[0]), float(time[1]), alpha=1, color=color[change_info[idx]])"
   ]
  },
  {
   "cell_type": "code",
   "execution_count": 532,
   "metadata": {},
   "outputs": [
    {
     "name": "stdout",
     "output_type": "stream",
     "text": [
      "1\n",
      "5\n",
      "11\n",
      "15\n",
      "21\n",
      "25\n",
      "Add a white page factor here, need to revise later!\n",
      "31\n",
      "Add a white page factor here, need to revise later!\n",
      "35\n",
      "41\n",
      "45\n",
      "51\n",
      "55\n",
      "61\n",
      "65\n",
      "71\n",
      "75\n",
      "81\n",
      "Add a white page factor here, need to revise later!\n",
      "85\n",
      "91\n",
      "95\n",
      "101\n",
      "105\n",
      "115\n",
      "121\n",
      "125\n",
      "131\n",
      "135\n",
      "141\n",
      "145\n",
      "151\n",
      "155\n",
      "161\n",
      "165\n",
      "171\n",
      "175\n",
      "181\n",
      "185\n",
      "191\n",
      "Add a white page factor here, need to revise later!\n",
      "195\n"
     ]
    }
   ],
   "source": [
    "dist_distribution = []\n",
    "for piece in range(1, 201):\n",
    "    if piece != 111 and str(piece)[-1] in ['1', '5']:\n",
    "        print(piece)\n",
    "        _, _, _, dist = calDistInfo(piece)\n",
    "        dist_distribution += dist"
   ]
  },
  {
   "cell_type": "code",
   "execution_count": 533,
   "metadata": {},
   "outputs": [
    {
     "data": {
      "text/plain": [
       "(array([   8.,   35.,  423.,  113.,   28.,  618., 1596.,  142.,   95.,\n",
       "          31.]),\n",
       " array([-1268.96288832,  -991.3138947 ,  -713.66490107,  -436.01590745,\n",
       "         -158.36691383,   119.2820798 ,   396.93107342,   674.58006704,\n",
       "          952.22906067,  1229.87805429,  1507.52704791]),\n",
       " <a list of 10 Patch objects>)"
      ]
     },
     "execution_count": 533,
     "metadata": {},
     "output_type": "execute_result"
    },
    {
     "data": {
      "image/png": "[encoded data removed]",
      "text/plain": [
       "<Figure size 432x288 with 1 Axes>"
      ]
     },
     "metadata": {
      "needs_background": "light"
     },
     "output_type": "display_data"
    }
   ],
   "source": [
    "dist_distribution = list(filter(lambda x: abs(x) < 10000, dist_distribution))\n",
    "plt.hist(dist_distribution, rwidth=0.8)"
   ]
  },
  {
   "cell_type": "markdown",
   "metadata": {},
   "source": [
    "#### Decide the tolerance"
   ]
  },
  {
   "cell_type": "code",
   "execution_count": 419,
   "metadata": {},
   "outputs": [],
   "source": [
    "tol = range(0,161,10)\n",
    "res = [0.028613116176562956, 0.6468402900738537, 0.795491114998979, 0.8093670018377619, 0.8113906046759265, 0.8113906046759265, 0.8113906046759265, 0.8113906046759265, 0.8113906046759265, 0.8123558034682697, 0.8123558034682697, 0.8123558034682697, 0.8123558034682697, 0.8083164174063567, 0.796601598125594, 0.7776486651554321\n",
    ", 0.7571104661067255]"
   ]
  },
  {
   "cell_type": "code",
   "execution_count": 420,
   "metadata": {},
   "outputs": [
    {
     "data": {
      "text/plain": [
       "Text(0, 0.5, 'accuracy')"
      ]
     },
     "execution_count": 420,
     "metadata": {},
     "output_type": "execute_result"
    },
    {
     "data": {
      "image/png": "[encoded data removed]",
      "text/plain": [
       "<Figure size 576x396 with 1 Axes>"
      ]
     },
     "metadata": {},
     "output_type": "display_data"
    }
   ],
   "source": [
    "plt.scatter(tol,res)\n",
    "plt.xlabel('tolerance')\n",
    "plt.ylabel('accuracy')"
   ]
  },
  {
   "cell_type": "markdown",
   "metadata": {},
   "source": [
    "#### Get bscore_sheet"
   ]
  },
  {
   "cell_type": "code",
   "execution_count": 379,
   "metadata": {},
   "outputs": [
    {
     "name": "stdout",
     "output_type": "stream",
     "text": [
      "Processing Piece 111\n"
     ]
    }
   ],
   "source": [
    "import time\n",
    "for i in range(1, 201):\n",
    "    if str(i)[-1] in ['1','5']:\n",
    "        print(\"Processing Piece {}\".format(i))\n",
    "        start = time.time()\n",
    "        bscore_sheet, events = generatePieceBootlegScore('/home/mshan/ttemp/data/png/p{}'.format(i))\n",
    "        for j, event in enumerate(events):\n",
    "            events[j] += [min(events[j][0] + [events[j][-3]]), max(events[j][0] + [events[j][-2]])]\n",
    "        d = {'bscore': bscore_sheet, 'events': events, 'time': time.time() - start}\n",
    "        with open('/home/mshan/ttemp/data/bscore_sheet/p{}.pkl'.format(i), 'wb') as f:\n",
    "            pickle.dump(d, f)"
   ]
  },
  {
   "cell_type": "markdown",
   "metadata": {},
   "source": [
    "#### A few helper functionalities"
   ]
  },
  {
   "cell_type": "code",
   "execution_count": 2,
   "metadata": {},
   "outputs": [
    {
     "data": {
      "text/plain": [
       "\"for i in range(1,201):\\n    dur = librosa.get_duration(filename='/home/mshan/ttemp/data/audio/p{}.wav'.format(i))\\n    rows = []\\n    with open('/home/mshan/ttemp/data/timeAnnot/p{}.timeinfo.csv'.format(i), 'r') as f:\\n        reader = csv.reader(f)\\n        for row in reader:\\n            rows.append(row)\\n        rows[-1][-1] = str(dur)\\n    with open('/home/mshan/ttemp/data/timeAnnot/p{}.timeannot.csv'.format(i), 'w') as f:\\n        writer = csv.writer(f, delimiter=',')\\n        for row in rows:\\n            writer.writerow(row)\\n\""
      ]
     },
     "execution_count": 2,
     "metadata": {},
     "output_type": "execute_result"
    }
   ],
   "source": [
    "for i in range(1,201):\n",
    "    dur = librosa.get_duration(filename='/home/mshan/ttemp/data/audio/p{}.wav'.format(i))\n",
    "    rows = []\n",
    "    with open('/home/mshan/ttemp/data/timeAnnot/p{}.timeinfo.csv'.format(i), 'r') as f:\n",
    "        reader = csv.reader(f)\n",
    "        for row in reader:\n",
    "            rows.append(row)\n",
    "        rows[-1][-1] = str(dur)\n",
    "    with open('/home/mshan/ttemp/data/timeAnnot/p{}.timeannot.csv'.format(i), 'w') as f:\n",
    "        writer = csv.writer(f, delimiter=',')\n",
    "        for row in rows:\n",
    "            writer.writerow(row)"
   ]
  },
  {
   "cell_type": "code",
   "execution_count": 4,
   "metadata": {},
   "outputs": [
    {
     "data": {
      "text/plain": [
       "\"with open('run_time_dsalfine.pkl', 'rb') as p:\\n    d = pickle.load(p)\\n    print(sum(list(d.values()))/len(list(d.values())))\\n\""
      ]
     },
     "execution_count": 4,
     "metadata": {},
     "output_type": "execute_result"
    }
   ],
   "source": [
    "with open('run_time_dsalfine.pkl', 'rb') as p:\n",
    "    d = pickle.load(p)\n",
    "    print(sum(list(d.values()))/len(list(d.values())))"
   ]
  },
  {
   "cell_type": "code",
   "execution_count": 5,
   "metadata": {},
   "outputs": [
    {
     "data": {
      "text/plain": [
       "\"with open('run_time_original.pkl', 'wb') as p:\\n    pickle.dump(d, p)\\n    print(sum(list(d.values()))/len(list(d.values())))\\n\""
      ]
     },
     "execution_count": 5,
     "metadata": {},
     "output_type": "execute_result"
    }
   ],
   "source": [
    "with open('run_time_original.pkl', 'wb') as p:\n",
    "    pickle.dump(d, p)\n",
    "    print(sum(list(d.values()))/len(list(d.values())))"
   ]
  },
  {
   "cell_type": "code",
   "execution_count": 6,
   "metadata": {},
   "outputs": [
    {
     "data": {
      "text/plain": [
       "\"time = 0\\ncount = 0\\nfor i in range(1, 141):\\n    if str(i)[-1] in ['1', '5']:\\n        with open('/home/mshan/ttemp/data/bscore_sheet/p{}.pkl'.format(i), 'rb') as p:\\n            d = pickle.load(p)\\n            time += d['time']\\n            count += 1\\nprint(time/count)\\n\""
      ]
     },
     "execution_count": 6,
     "metadata": {},
     "output_type": "execute_result"
    }
   ],
   "source": [
    "time = 0\n",
    "count = 0\n",
    "for i in range(1, 141):\n",
    "    if str(i)[-1] in ['1', '5']:\n",
    "        with open('/home/mshan/ttemp/data/bscore_sheet/p{}.pkl'.format(i), 'rb') as p:\n",
    "            d = pickle.load(p)\n",
    "            time += d['time']\n",
    "            count += 1\n",
    "print(time/count)"
   ]
  },
  {
   "cell_type": "code",
   "execution_count": 81,
   "metadata": {},
   "outputs": [],
   "source": [
    "for piece in range(1, 201):\n",
    "    with open('/home/mshan/ttemp/data_repeat2/timeAnnot/p{}.timeinfo.csv'.format(piece)) as csvfile:\n",
    "        reader = csv.reader(csvfile)\n",
    "        rows = []\n",
    "        for row in reader:\n",
    "            rows.append(row)\n",
    "        rows.sort(key = lambda x: float(x[1])) \n",
    "        with open('/home/mshan/ttemp/data_repeat2/timeAnnot/p{}.timeannot.csv'.format(piece), 'w') as writefile:\n",
    "            writer = csv.writer(writefile, delimiter=',')\n",
    "            for row in rows:\n",
    "                writer.writerow(row)"
   ]
  },
  {
   "cell_type": "code",
   "execution_count": null,
   "metadata": {},
   "outputs": [],
   "source": []
  }
 ],
 "metadata": {
  "kernelspec": {
   "display_name": "Python 3",
   "language": "python",
   "name": "python3"
  },
  "language_info": {
   "codemirror_mode": {
    "name": "ipython",
    "version": 3
   },
   "file_extension": ".py",
   "mimetype": "text/x-python",
   "name": "python",
   "nbconvert_exporter": "python",
   "pygments_lexer": "ipython3",
   "version": "3.5.2"
  }
 },
 "nbformat": 4,
 "nbformat_minor": 4
}
