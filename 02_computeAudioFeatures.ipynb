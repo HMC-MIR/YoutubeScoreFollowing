{
 "cells": [
  {
   "cell_type": "code",
   "execution_count": 1,
   "metadata": {},
   "outputs": [],
   "source": [
    "%matplotlib inline"
   ]
  },
  {
   "cell_type": "code",
   "execution_count": 2,
   "metadata": {},
   "outputs": [],
   "source": [
    "import numpy as np\n",
    "import matplotlib.pyplot as plt\n",
    "from mido import MidiFile, tick2second\n",
    "from pretty_midi import PrettyMIDI\n",
    "import pickle\n",
    "import os\n",
    "import os.path\n",
    "import time"
   ]
  },
  {
   "cell_type": "markdown",
   "metadata": {},
   "source": [
    "### Generating bootleg score"
   ]
  },
  {
   "cell_type": "code",
   "execution_count": 3,
   "metadata": {},
   "outputs": [],
   "source": [
    "def showImage(X, sz = (6,6)):\n",
    "    plt.figure(figsize = sz)\n",
    "    plt.imshow(X, cmap = 'gray', origin = 'lower')"
   ]
  },
  {
   "cell_type": "code",
   "execution_count": 4,
   "metadata": {},
   "outputs": [],
   "source": [
    "def getNoteEvents(midifile, quant = 10):\n",
    "    ### Given a midi file, return a list of (t_tick, t_sec, notes) tuples for simultaneous note events\n",
    "    \n",
    "    # get note onset info\n",
    "    mid = MidiFile(midifile)\n",
    "    noteEvents = []\n",
    "    checkForDuplicates = {}\n",
    "    for i, track in enumerate(mid.tracks):\n",
    "        t = 0 \n",
    "        for msg in track:\n",
    "            t += msg.time # ticks since last event\n",
    "            if msg.type == 'note_on' and msg.velocity > 0:\n",
    "                key = '{},{}'.format(t,msg.note)\n",
    "                if key not in checkForDuplicates:\n",
    "                    noteEvents.append((t, msg.note))\n",
    "                    checkForDuplicates[key] = 0\n",
    "    noteEvents = sorted(noteEvents) # merge note events from all tracks, sort by time\n",
    "    pm = PrettyMIDI(midifile)\n",
    "    noteOnsets = [(t_ticks, pm.tick_to_time(t_ticks), note) for (t_ticks, note) in noteEvents]\n",
    "    \n",
    "    # collapse simultaneous notes\n",
    "    d = {}\n",
    "    ticks_quant = [n[0]//quant for n in noteOnsets] # quantized time units (ticks)\n",
    "    for n, t_quant in zip(noteOnsets, ticks_quant):\n",
    "        if t_quant not in d:\n",
    "            d[t_quant] = {}\n",
    "            d[t_quant]['ticks'] = []\n",
    "            d[t_quant]['secs'] = []\n",
    "            d[t_quant]['notes'] = []\n",
    "        d[t_quant]['ticks'].append(n[0])\n",
    "        d[t_quant]['secs'].append(n[1])\n",
    "        d[t_quant]['notes'].append(n[2])\n",
    "        \n",
    "    result = [(d[key]['ticks'][0], d[key]['secs'][0], d[key]['notes']) for key in sorted(d.keys())]\n",
    "    \n",
    "    return result, d # return d for debugging"
   ]
  },
  {
   "cell_type": "code",
   "execution_count": 5,
   "metadata": {},
   "outputs": [],
   "source": [
    "def generateBootlegScore(noteEvents, repeatNotes = 1, filler = 0):\n",
    "    rh_dim = 34 # E3 to C8 (inclusive)\n",
    "    lh_dim = 28 # A1 to G4 (inclusive)\n",
    "    rh = [] # list of arrays of size rh_dim\n",
    "    lh = [] # list of arrays of size lh_dim\n",
    "    numNotes = [] # number of simultaneous notes\n",
    "    times = [] # list of (tsec, ttick) tuples indicating the time in ticks and seconds\n",
    "    mapR, mapL = getNoteheadPlacementMapping() # maps midi numbers to locations on right and left hand staves\n",
    "    for i, (ttick, tsec, notes) in enumerate(noteEvents):\n",
    "        \n",
    "        # insert empty filler columns between note events\n",
    "        if i > 0:\n",
    "            for j in range(filler):\n",
    "                rh.append(np.zeros((rh_dim,1)))\n",
    "                lh.append(np.zeros((lh_dim,1)))\n",
    "                numNotes.append(0)\n",
    "            # get corresponding times using linear interpolation\n",
    "            interp_ticks = np.interp(np.arange(1, filler+1), [0, filler+1], [noteEvents[i-1][0], ttick])\n",
    "            interp_secs = np.interp(np.arange(1, filler+1), [0, filler+1], [noteEvents[i-1][1], tsec])\n",
    "            for tup in zip(interp_secs, interp_ticks):\n",
    "                times.append((tup[0], tup[1]))\n",
    "\n",
    "        # insert note events columns\n",
    "        rhvec = np.zeros((rh_dim, 1))\n",
    "        lhvec = np.zeros((lh_dim, 1))\n",
    "        for midinum in notes:\n",
    "            rhvec += getNoteheadPlacement(midinum, mapR, rh_dim)\n",
    "            lhvec += getNoteheadPlacement(midinum, mapL, lh_dim)\n",
    "        for j in range(repeatNotes):\n",
    "            rh.append(rhvec)\n",
    "            lh.append(lhvec)\n",
    "            numNotes.append(len(notes))\n",
    "            times.append((tsec, ttick))\n",
    "    rh = np.clip(np.squeeze(np.array(rh)).T, 0, 1) # clip in case e.g. E and F played simultaneously\n",
    "    lh = np.clip(np.squeeze(np.array(lh)).T, 0, 1) \n",
    "    both = np.vstack((lh, rh))\n",
    "    staffLinesRH = [7,9,11,13,15]\n",
    "    staffLinesLH = [13,15,17,19,21]\n",
    "    staffLinesBoth = [13,15,17,19,21,35,37,39,41,43]\n",
    "    return both, times, numNotes, staffLinesBoth, (rh, staffLinesRH), (lh, staffLinesLH)"
   ]
  },
  {
   "cell_type": "code",
   "execution_count": 6,
   "metadata": {},
   "outputs": [],
   "source": [
    "def getNoteheadPlacementMapping():\n",
    "    r = getNoteheadPlacementMappingRH()\n",
    "    l = getNoteheadPlacementMappingLH()\n",
    "    #r, l = addOctaveChanges(r, l) # uncomment to include octave markings\n",
    "    #r, l = addClefChanges(r, l) # uncomment to include different clefs\n",
    "    return r, l"
   ]
  },
  {
   "cell_type": "code",
   "execution_count": 7,
   "metadata": {},
   "outputs": [],
   "source": [
    "def getNoteheadPlacementMappingLH():\n",
    "    d = {}\n",
    "    # e.g. d[23] = [1,2] indicates that B0 could appear as a B or a C-flat, which means\n",
    "    # that the notehead could be located at positions 1 or 2\n",
    "    d[21] = [0] # A0 (position 0)\n",
    "    d[22] = [0,1]\n",
    "    d[23] = [1,2] # B0\n",
    "    d[24] = [1,2] # C1\n",
    "    d[25] = [2,3]\n",
    "    d[26] = [3] # D1\n",
    "    d[27] = [3,4]\n",
    "    d[28] = [4,5] # E1\n",
    "    d[29] = [4,5] # F1\n",
    "    d[30] = [5,6]\n",
    "    d[31] = [6] # G1\n",
    "    d[32] = [6,7] \n",
    "    d[33] = [7] # A1\n",
    "    d[34] = [7,8]\n",
    "    d[35] = [8,9] # B1\n",
    "    d[36] = [8,9] # C2\n",
    "    d[37] = [9,10] \n",
    "    d[38] = [10] # D2\n",
    "    d[39] = [10,11] \n",
    "    d[40] = [11,12] # E2\n",
    "    d[41] = [11,12] # F2\n",
    "    d[42] = [12,13] \n",
    "    d[43] = [13] # G2\n",
    "    d[44] = [13,14] \n",
    "    d[45] = [14] # A2\n",
    "    d[46] = [14,15] \n",
    "    d[47] = [15,16] # B2\n",
    "    d[48] = [15,16] # C3\n",
    "    d[49] = [16,17] \n",
    "    d[50] = [17] # D3\n",
    "    d[51] = [17,18] \n",
    "    d[52] = [18,19] # E3\n",
    "    d[53] = [18,19] # F3\n",
    "    d[54] = [19,20] \n",
    "    d[55] = [20] # G3\n",
    "    d[56] = [20,21] \n",
    "    d[57] = [21] # A3\n",
    "    d[58] = [21,22] \n",
    "    d[59] = [22,23] # B3\n",
    "    d[60] = [22,23] # C4\n",
    "    d[61] = [23,24] \n",
    "    d[62] = [24] # D4\n",
    "    d[63] = [24,25] \n",
    "    d[64] = [25,26] # E4\n",
    "    d[65] = [25,26] # F4\n",
    "    d[66] = [26,27] \n",
    "    d[67] = [27] # G4\n",
    "    return d"
   ]
  },
  {
   "cell_type": "code",
   "execution_count": 8,
   "metadata": {},
   "outputs": [],
   "source": [
    "def getNoteheadPlacementMappingRH():\n",
    "    d = {}\n",
    "    # e.g. d[52] = [0,1] indicates that E3 could appear as an E or an F-flat, which means\n",
    "    # that the notehead could be located at positions 0 or 1\n",
    "    d[52] = [0,1] # E3 (position 0)\n",
    "    d[53] = [0,1] # F3\n",
    "    d[54] = [1,2]\n",
    "    d[55] = [2] # G3\n",
    "    d[56] = [2,3]\n",
    "    d[57] = [3] # A3\n",
    "    d[58] = [3,4]\n",
    "    d[59] = [4,5] # B3\n",
    "    d[60] = [4,5] # C4\n",
    "    d[61] = [5,6]\n",
    "    d[62] = [6] # D4\n",
    "    d[63] = [6,7]\n",
    "    d[64] = [7,8] # E4\n",
    "    d[65] = [7,8] # F4\n",
    "    d[66] = [8,9]\n",
    "    d[67] = [9] # G4\n",
    "    d[68] = [9,10]\n",
    "    d[69] = [10] # A4\n",
    "    d[70] = [10,11]\n",
    "    d[71] = [11,12] # B4\n",
    "    d[72] = [11,12] # C5\n",
    "    d[73] = [12,13]\n",
    "    d[74] = [13] # D5\n",
    "    d[75] = [13,14]\n",
    "    d[76] = [14,15] # E5\n",
    "    d[77] = [14,15] # F5\n",
    "    d[78] = [15,16]\n",
    "    d[79] = [16] # G5\n",
    "    d[80] = [16,17]\n",
    "    d[81] = [17] # A5\n",
    "    d[82] = [17,18] \n",
    "    d[83] = [18,19] # B5\n",
    "    d[84] = [18,19] # C6\n",
    "    d[85] = [19,20]\n",
    "    d[86] = [20] # D6\n",
    "    d[87] = [20,21]\n",
    "    d[88] = [21,22] # E6\n",
    "    d[89] = [21,22] # F6\n",
    "    d[90] = [22,23]\n",
    "    d[91] = [23] # G6\n",
    "    d[92] = [23,24] \n",
    "    d[93] = [24] # A6\n",
    "    d[94] = [24,25]\n",
    "    d[95] = [25,26] # B6\n",
    "    d[96] = [25,26] # C7\n",
    "    d[97] = [26,27]\n",
    "    d[98] = [27] # D7\n",
    "    d[99] = [27,28] \n",
    "    d[100] = [28,29] # E7\n",
    "    d[101] = [28,29] # F7\n",
    "    d[102] = [29,30]\n",
    "    d[103] = [30] # G7\n",
    "    d[104] = [30,31]    \n",
    "    d[105] = [31] # A7\n",
    "    d[106] = [31,32]\n",
    "    d[107] = [32,33] # B7\n",
    "    d[108] = [32,33] # C8\n",
    "    return d"
   ]
  },
  {
   "cell_type": "code",
   "execution_count": 9,
   "metadata": {},
   "outputs": [],
   "source": [
    "def addOctaveChanges(r, l):\n",
    "    \n",
    "    # add octaves in treble clef for G5 and above\n",
    "    for midinum in r:\n",
    "        if midinum >= 79:\n",
    "            toAdd = []\n",
    "            for staffpos in r[midinum]:\n",
    "                toAdd.append(staffpos - 7) # 7 staff positions = 1 octave\n",
    "            r[midinum].extend(toAdd)\n",
    "    \n",
    "    # add octaves in bass clef for F2 and below\n",
    "    for midinum in l:\n",
    "        if midinum <= 41:\n",
    "            toAdd = []\n",
    "            for staffpos in l[midinum]:\n",
    "                toAdd.append(staffpos + 7)\n",
    "            l[midinum].extend(toAdd)\n",
    "    \n",
    "    return r, l"
   ]
  },
  {
   "cell_type": "code",
   "execution_count": 10,
   "metadata": {},
   "outputs": [],
   "source": [
    "def addClefChanges(r, l):\n",
    "    \n",
    "    # clef change in rh\n",
    "    for midinum in range(36, 65):  # C2 to E4\n",
    "        if midinum not in r:\n",
    "            r[midinum] = []\n",
    "        for staffpos in l[midinum]:\n",
    "            r[midinum].append(staffpos - 6) # shift between L and R staves (e.g. middle staff line is pos 11 in rh, pos 17 in lh)\n",
    "            \n",
    "    # clef change in lh\n",
    "    for midinum in range(57, 85): # A3 to C6\n",
    "        if midinum not in l:\n",
    "            l[midinum] = []\n",
    "        for staffpos in r[midinum]:\n",
    "            l[midinum].append(staffpos + 6)\n",
    "            \n",
    "    return r, l"
   ]
  },
  {
   "cell_type": "code",
   "execution_count": 11,
   "metadata": {},
   "outputs": [],
   "source": [
    "def getNoteheadPlacement(midinum, midi2loc, dim):\n",
    "    r = np.zeros((dim, 1))\n",
    "    if midinum in midi2loc:\n",
    "        for idx in midi2loc[midinum]:\n",
    "            r[idx,0] = 1\n",
    "    return r"
   ]
  },
  {
   "cell_type": "code",
   "execution_count": 12,
   "metadata": {},
   "outputs": [],
   "source": [
    "def visualizeBootlegScore(bs, lines):\n",
    "    showImage(1 - bs, (10,10))\n",
    "    for l in range(1, bs.shape[0], 2):\n",
    "        plt.axhline(l, c = 'b')\n",
    "    for l in lines:\n",
    "        plt.axhline(l, c = 'r')"
   ]
  },
  {
   "cell_type": "code",
   "execution_count": 51,
   "metadata": {},
   "outputs": [],
   "source": [
    "midifile_1 = '/home/mshan/ttemp/data/midi/p111.mid'"
   ]
  },
  {
   "cell_type": "code",
   "execution_count": 55,
   "metadata": {},
   "outputs": [],
   "source": [
    "midifile_2 = '/home/mshan/ttemp/data/gen_midi/p111.midi'"
   ]
  },
  {
   "cell_type": "code",
   "execution_count": 56,
   "metadata": {},
   "outputs": [
    {
     "name": "stdout",
     "output_type": "stream",
     "text": [
      "(240, 0.151515, [46, 58, 70, 82])\n"
     ]
    },
    {
     "data": {
      "image/png": "[encoded data removed]",
      "text/plain": [
       "<Figure size 720x720 with 1 Axes>"
      ]
     },
     "metadata": {
      "needs_background": "light"
     },
     "output_type": "display_data"
    }
   ],
   "source": [
    "note_events, _ = getNoteEvents(midifile_1)\n",
    "print(note_events[1])\n",
    "bscore, times, num_notes, stafflines, _, _ = generateBootlegScore(note_events, 1, 0)\n",
    "visualizeBootlegScore(bscore[:,0:140], stafflines)"
   ]
  },
  {
   "cell_type": "code",
   "execution_count": 57,
   "metadata": {},
   "outputs": [
    {
     "data": {
      "image/png": "[encoded data removed]",
      "text/plain": [
       "<Figure size 720x720 with 1 Axes>"
      ]
     },
     "metadata": {
      "needs_background": "light"
     },
     "output_type": "display_data"
    }
   ],
   "source": [
    "note_events, _ = getNoteEvents(midifile_2)\n",
    "bscore, times, num_notes, stafflines, _, _ = generateBootlegScore(note_events, 1, 0)\n",
    "visualizeBootlegScore(bscore[:,0:140], stafflines)"
   ]
  },
  {
   "cell_type": "markdown",
   "metadata": {},
   "source": [
    "### Process midi files"
   ]
  },
  {
   "cell_type": "code",
   "execution_count": 13,
   "metadata": {},
   "outputs": [],
   "source": [
    "def processMidiFile(midifile, outfile):\n",
    "    \n",
    "    ### system parameters ###\n",
    "    timeQuantFactor = 10\n",
    "    bootlegRepeatNotes = 1\n",
    "    bootlegFiller = 0\n",
    "    #########################\n",
    "    \n",
    "    print(\"Extracting bootleg score of {}\".format(midifile))\n",
    "    note_events, _ = getNoteEvents(midifile, timeQuantFactor)\n",
    "    bscore, times, num_notes, stafflines, _, _ = generateBootlegScore(note_events, bootlegRepeatNotes, bootlegFiller)\n",
    "    \n",
    "    # save to file\n",
    "    d = {'bscore': bscore, 'times': times, 'num_notes': num_notes, 'stafflines': stafflines, 'note_events': note_events}\n",
    "    with open(outfile, 'wb') as f:\n",
    "        pickle.dump(d, f)"
   ]
  },
  {
   "cell_type": "code",
   "execution_count": 14,
   "metadata": {},
   "outputs": [],
   "source": [
    "def processAudioFile(filename, data='data'):\n",
    "    '''\n",
    "    input:\n",
    "        filename: in the form of 'p1.wav'.\n",
    "    \n",
    "    Will convert the wav file to midi file and calculate the bootleg score.\n",
    "    '''\n",
    "    print(\"Converting \" + filename + \" to MIDI...\")\n",
    "    cmd = \"onsets_frames_transcription_transcribe --model_dir=/home/mshan/spring2020/magenta/train /home/mshan/ttemp/{}/audio/\".format(data) + filename\n",
    "    os.system(cmd)\n",
    "    processMidiFile(\"/home/mshan/ttemp/{}/audio/\".format(data) + filename + \".midi\", \"/home/mshan/ttemp/{}/bscore/\".format(data) + filename.split(\".\")[0] + \".pkl\")"
   ]
  },
  {
   "cell_type": "markdown",
   "metadata": {},
   "source": [
    "#### Run the experiment: convert all audio files to bootleg pkl."
   ]
  },
  {
   "cell_type": "code",
   "execution_count": 20,
   "metadata": {},
   "outputs": [
    {
     "name": "stdout",
     "output_type": "stream",
     "text": [
      "Converting p153.wav to MIDI...\n",
      "Extracting bootleg score of /home/mshan/ttemp/data_dsalfine/audio/p153.wav.midi\n",
      "23.250804901123047\n"
     ]
    }
   ],
   "source": [
    "run_time = {}\n",
    "for i in range(153, 154):\n",
    "    start = time.time()\n",
    "    processAudioFile(\"p{}.wav\".format(str(i)), data='data_dsalfine')\n",
    "    run_time[i] = time.time() - start\n",
    "    print(run_time[i])\n",
    "#with open('audio_bscore_dsalfine_time.pkl', 'wb') as f:\n",
    "#    pickle.dump(run_time, f)"
   ]
  },
  {
   "cell_type": "code",
   "execution_count": 24,
   "metadata": {},
   "outputs": [
    {
     "data": {
      "text/plain": [
       "(array([42., 61., 38., 33.,  7.,  6.,  7.,  3.,  1.,  1.,  0.,  0.,  0.,\n",
       "         0.,  0.,  0.,  0.,  0.,  0.,  1.]),\n",
       " array([ 18.60998607,  24.40992429,  30.20986252,  36.00980074,\n",
       "         41.80973897,  47.6096772 ,  53.40961542,  59.20955365,\n",
       "         65.00949187,  70.8094301 ,  76.60936832,  82.40930655,\n",
       "         88.20924478,  94.009183  ,  99.80912123, 105.60905945,\n",
       "        111.40899768, 117.2089359 , 123.00887413, 128.80881236,\n",
       "        134.60875058]),\n",
       " <a list of 20 Patch objects>)"
      ]
     },
     "execution_count": 24,
     "metadata": {},
     "output_type": "execute_result"
    },
    {
     "data": {
      "image/png": "[encoded data removed]",
      "text/plain": [
       "<Figure size 432x288 with 1 Axes>"
      ]
     },
     "metadata": {
      "needs_background": "light"
     },
     "output_type": "display_data"
    }
   ],
   "source": [
    "plt.hist(list(run_time.values()), bins = 20)"
   ]
  },
  {
   "cell_type": "code",
   "execution_count": 34,
   "metadata": {},
   "outputs": [
    {
     "data": {
      "text/plain": [
       "31.287606585025788"
      ]
     },
     "execution_count": 34,
     "metadata": {},
     "output_type": "execute_result"
    }
   ],
   "source": [
    "sum = 0\n",
    "for i in range(1, 201):\n",
    "    if str(i)[-1] in ['1', '5']:\n",
    "        sum += run_time[i]\n",
    "sum/40"
   ]
  },
  {
   "cell_type": "code",
   "execution_count": 35,
   "metadata": {},
   "outputs": [
    {
     "data": {
      "text/plain": [
       "33.11726358383894"
      ]
     },
     "execution_count": 35,
     "metadata": {},
     "output_type": "execute_result"
    }
   ],
   "source": [
    "sum = 0\n",
    "for i in range(1, 201):\n",
    "    if str(i)[-1] not in ['1', '5']:\n",
    "        sum += run_time[i]\n",
    "sum/160"
   ]
  },
  {
   "cell_type": "code",
   "execution_count": null,
   "metadata": {},
   "outputs": [],
   "source": []
  }
 ],
 "metadata": {
  "kernelspec": {
   "display_name": "Python 3",
   "language": "python",
   "name": "python3"
  },
  "language_info": {
   "codemirror_mode": {
    "name": "ipython",
    "version": 3
   },
   "file_extension": ".py",
   "mimetype": "text/x-python",
   "name": "python",
   "nbconvert_exporter": "python",
   "pygments_lexer": "ipython3",
   "version": "3.5.2"
  }
 },
 "nbformat": 4,
 "nbformat_minor": 2
}
