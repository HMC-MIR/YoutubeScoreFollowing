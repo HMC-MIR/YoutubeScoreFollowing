{
 "cells": [
  {
   "cell_type": "code",
   "execution_count": 113,
   "metadata": {},
   "outputs": [],
   "source": [
    "import numpy as np\n",
    "import pickle\n",
    "from numpy.matlib import repmat\n",
    "import matplotlib.pyplot as plt\n",
    "import librosa"
   ]
  },
  {
   "cell_type": "markdown",
   "metadata": {},
   "source": [
    "#### Basic functions to get bootleg scores for MIDI and sheet music."
   ]
  },
  {
   "cell_type": "code",
   "execution_count": 114,
   "metadata": {},
   "outputs": [],
   "source": [
    "def loadMidiBootlegScore(pkl_file):\n",
    "    with open(pkl_file, 'rb') as f:\n",
    "        d = pickle.load(f)\n",
    "    bscore = d['bscore']\n",
    "    miditimes = d['times']\n",
    "    num_notes = np.array(d['num_notes'])\n",
    "    stafflines = d['stafflines']\n",
    "    return bscore, miditimes, num_notes, stafflines"
   ]
  },
  {
   "cell_type": "code",
   "execution_count": 115,
   "metadata": {},
   "outputs": [],
   "source": [
    "def loadSheetBootlegScore(pkl_file):\n",
    "    with open(pkl_file, 'rb') as f:\n",
    "        d = pickle.load(f)\n",
    "    bscore = d['bscore']\n",
    "    events = d['events']\n",
    "    return bscore, events"
   ]
  },
  {
   "cell_type": "markdown",
   "metadata": {},
   "source": [
    "#### Get first or last elements of lines. "
   ]
  },
  {
   "cell_type": "code",
   "execution_count": 116,
   "metadata": {},
   "outputs": [],
   "source": [
    "def getBoundaryElements(piece, loc):\n",
    "    '''\n",
    "    Variable loc could be either 'F' or 'L'.\n",
    "    Get all elements that are first or last element of a single line, given a piece number.\n",
    "    '''\n",
    "    first = []\n",
    "    last = []\n",
    "    with open('/home/mshan/ttemp/data/bscore_sheet/p{}.pkl'.format(piece), 'rb') as pklfile:\n",
    "        d = pickle.load(pklfile)\n",
    "        for i in range(1, len(d['events'])):\n",
    "            \n",
    "            # check if on the same page as the previous event\n",
    "            if d['events'][i][2] != d['events'][i-1][2]:\n",
    "                first.append(i)\n",
    "                \n",
    "        for i in range(0, len(d['events'])-1):\n",
    "            # check if on the same page as the next event\n",
    "            if d['events'][i][2] != d['events'][i+1][2]:\n",
    "                last.append(i)\n",
    "                \n",
    "    if loc == 'F':\n",
    "        return [0] + first # 0 is also a first element\n",
    "    return last + [len(d['events']) - 1] # add the last element of a piece"
   ]
  },
  {
   "cell_type": "markdown",
   "metadata": {},
   "source": [
    "#### Metric functions taken from previous code"
   ]
  },
  {
   "cell_type": "code",
   "execution_count": 117,
   "metadata": {},
   "outputs": [],
   "source": [
    "def normalizedCostMetric(Q, R, numQueryNotes, numRefNotes):\n",
    "    '''\n",
    "    Take two vectors, return the normalized cost metric by taking dot product and divided by the maximum norm factor.\n",
    "    '''\n",
    "    cost = - Q.T @ R\n",
    "    query_norm_factor = repmat(numQueryNotes.reshape((-1,1)), 1, R.shape[1])\n",
    "    ref_norm_factor = repmat(numRefNotes.reshape((1,-1)), Q.shape[1], 1)\n",
    "    norm_factor = np.maximum(query_norm_factor, ref_norm_factor) + 1e-8 # avoid divide by 0\n",
    "    norm_cost = cost / norm_factor\n",
    "    return norm_cost"
   ]
  },
  {
   "cell_type": "code",
   "execution_count": 118,
   "metadata": {},
   "outputs": [],
   "source": [
    "def computeCostMatrix(query, ref, numRefNotes):\n",
    "    numQueryNotes = np.sum(query, axis=0)\n",
    "    C = normalizedCostMetric(query, ref, numQueryNotes, numRefNotes)\n",
    "    return C"
   ]
  },
  {
   "cell_type": "markdown",
   "metadata": {},
   "source": [
    "#### Experiment"
   ]
  },
  {
   "cell_type": "code",
   "execution_count": 187,
   "metadata": {},
   "outputs": [],
   "source": [
    "piece = 15\n",
    "midi_pkl_dir = '/home/mshan/ttemp/data/bscore/p15.pkl'\n",
    "sheet_pkl_dir = '/home/mshan/ttemp/data/bscore_sheet/p15.pkl'\n",
    "piece_dir = '/home/mshan/ttemp/data/png/p15'"
   ]
  },
  {
   "cell_type": "code",
   "execution_count": 188,
   "metadata": {},
   "outputs": [],
   "source": [
    "bscore_midi, miditimes, num_midi_notes, stafflines = loadMidiBootlegScore(midi_pkl_dir)\n",
    "bscore_sheet,events = loadSheetBootlegScore(sheet_pkl_dir)\n",
    "num_sheet_notes = np.asarray([len(event[0]) for event in events])"
   ]
  },
  {
   "cell_type": "markdown",
   "metadata": {},
   "source": [
    "#### Run subsequence DTW for each line of music and the whole midi bootleg score. Concatenate and get matrix C. "
   ]
  },
  {
   "cell_type": "code",
   "execution_count": 189,
   "metadata": {},
   "outputs": [],
   "source": [
    "steps = np.array([2, 1, 1, 2, 1, 1]).reshape((3,2))\n",
    "weights = [2,1,1]"
   ]
  },
  {
   "cell_type": "code",
   "execution_count": 190,
   "metadata": {},
   "outputs": [
    {
     "data": {
      "text/plain": [
       "(62, 1426)"
      ]
     },
     "execution_count": 190,
     "metadata": {},
     "output_type": "execute_result"
    }
   ],
   "source": [
    "bscore_midi.shape"
   ]
  },
  {
   "cell_type": "code",
   "execution_count": 191,
   "metadata": {},
   "outputs": [
    {
     "data": {
      "text/plain": [
       "(62, 4202)"
      ]
     },
     "execution_count": 191,
     "metadata": {},
     "output_type": "execute_result"
    }
   ],
   "source": [
    "bscore_sheet.shape"
   ]
  },
  {
   "cell_type": "code",
   "execution_count": 192,
   "metadata": {},
   "outputs": [],
   "source": [
    "def subsequenceDTW(C, steps, weights):\n",
    "    '''\n",
    "    Regular subsequence DTW, used to retrieve single line of sheet music from the whole midi.\n",
    "    Function taken from class homework. \n",
    "    '''\n",
    "\n",
    "    D = np.zeros(C.shape)\n",
    "    B = np.zeros(C.shape, dtype=np.int16)\n",
    "\n",
    "    D[0, :] = C[0, :]\n",
    "    for r in range(1, C.shape[0]):\n",
    "        for c in range(0, C.shape[1]):\n",
    "            min_cost = np.inf\n",
    "            min_idx = -1\n",
    "            for idx in range(len(steps)):\n",
    "                r_step, c_step = steps[idx]\n",
    "                if r >= r_step and c >= c_step:\n",
    "                    cost = D[(r-r_step, c-c_step)] + C[(r, c)] * weights[idx]\n",
    "                    if cost < min_cost:\n",
    "                        min_idx = idx\n",
    "                        min_cost = cost\n",
    "            D[(r, c)] = min_cost\n",
    "            B[(r, c)] = min_idx\n",
    "            \n",
    "    lastloc = (D.shape[0] - 1, np.argmin(D[-1, :]))\n",
    "    path = backtrace(D, B, steps, lastloc)    \n",
    "    path = np.array(path)\n",
    "    \n",
    "    return path, D, B"
   ]
  },
  {
   "cell_type": "code",
   "execution_count": 144,
   "metadata": {},
   "outputs": [],
   "source": [
    "def backtrace(D, B, steps, lastloc):\n",
    "    '''\n",
    "    Regular backtrace. \n",
    "    '''\n",
    "\n",
    "    loc = lastloc\n",
    "    while loc[0] != 0:\n",
    "        r, c = loc\n",
    "        idx = B[(r, c)]\n",
    "        r_step, c_step = steps[idx]\n",
    "        loc = (r - r_step, c - c_step)\n",
    "    \n",
    "    return loc[1]"
   ]
  },
  {
   "cell_type": "code",
   "execution_count": 193,
   "metadata": {},
   "outputs": [
    {
     "name": "stdout",
     "output_type": "stream",
     "text": [
      "DTW for line 0\n",
      "DTW for line 10\n",
      "DTW for line 20\n",
      "DTW for line 30\n",
      "DTW for line 40\n",
      "DTW for line 50\n",
      "DTW for line 60\n",
      "DTW for line 70\n",
      "DTW for line 80\n"
     ]
    }
   ],
   "source": [
    "num_lines = len(getBoundaryElements(piece, \"F\"))\n",
    "# C is the matrix of all last lines\n",
    "C = np.zeros((num_lines, 1 + bscore_midi.shape[1]))  # leave space to insert filler columns\n",
    "T = np.zeros((num_lines, bscore_midi.shape[1]), dtype=np.int16)  \n",
    "\n",
    "for line in range(num_lines):\n",
    "    # calculate start and end indices for that line\n",
    "    if line % 10 == 0:\n",
    "        print('DTW for line {}'.format(line)) \n",
    "    start_idx = getBoundaryElements(piece, \"F\")[line]\n",
    "    end_idx = getBoundaryElements(piece, \"L\")[line]\n",
    "    bscore_line = bscore_sheet[:, start_idx : end_idx + 1]\n",
    "    \n",
    "    # dtw\n",
    "    cost = computeCostMatrix(bscore_line, bscore_midi, num_midi_notes)\n",
    "    wp, D, B = subsequenceDTW(cost, steps, weights)\n",
    "    \n",
    "    # update C\n",
    "    C[line, 1:] = D[-1, :]\n",
    "    \n",
    "    # update T\n",
    "    for col in range(T.shape[1]):\n",
    "        # T[(line, col)] is the starting point for C[(line, col)].\n",
    "        lastloc = (D.shape[0] - 1, col) \n",
    "        T[(line, col)] = backtrace(D, B, steps, lastloc)"
   ]
  },
  {
   "cell_type": "code",
   "execution_count": 194,
   "metadata": {},
   "outputs": [
    {
     "data": {
      "text/plain": [
       "(89, 1427)"
      ]
     },
     "execution_count": 194,
     "metadata": {},
     "output_type": "execute_result"
    }
   ],
   "source": [
    "C.shape"
   ]
  },
  {
   "cell_type": "code",
   "execution_count": 195,
   "metadata": {},
   "outputs": [
    {
     "data": {
      "text/plain": [
       "<matplotlib.image.AxesImage at 0x7f3118a63b38>"
      ]
     },
     "execution_count": 195,
     "metadata": {},
     "output_type": "execute_result"
    },
    {
     "data": {
      "image/png": "[encoded data removed]",
      "text/plain": [
       "<Figure size 1440x1440 with 1 Axes>"
      ]
     },
     "metadata": {
      "needs_background": "light"
     },
     "output_type": "display_data"
    }
   ],
   "source": [
    "plt.figure(figsize = (20,20))\n",
    "plt.imshow(C, origin = 'lower', cmap = 'jet')"
   ]
  },
  {
   "cell_type": "code",
   "execution_count": 196,
   "metadata": {},
   "outputs": [],
   "source": [
    "T.shape\n",
    "# why some negative values? \n",
    "# Doesn't matter, just ignore here.\n",
    "T[T < 0] = 0"
   ]
  },
  {
   "cell_type": "code",
   "execution_count": 197,
   "metadata": {},
   "outputs": [
    {
     "data": {
      "text/plain": [
       "array([[   0,    0,    0, ..., 1376, 1376, 1376],\n",
       "       [   0,    0,    0, ..., 1361, 1361, 1361],\n",
       "       [   0,    0,    0, ..., 1379, 1379, 1379],\n",
       "       ...,\n",
       "       [   0,    0,    0, ..., 1379, 1379, 1379],\n",
       "       [   0,    0,    0, ..., 1360, 1360, 1360],\n",
       "       [   0,    0,    0, ..., 1399, 1399, 1399]], dtype=int16)"
      ]
     },
     "execution_count": 197,
     "metadata": {},
     "output_type": "execute_result"
    }
   ],
   "source": [
    "T"
   ]
  },
  {
   "cell_type": "code",
   "execution_count": 198,
   "metadata": {},
   "outputs": [
    {
     "data": {
      "text/plain": [
       "<matplotlib.image.AxesImage at 0x7f31189a6780>"
      ]
     },
     "execution_count": 198,
     "metadata": {},
     "output_type": "execute_result"
    },
    {
     "data": {
      "image/png": "[encoded data removed]",
      "text/plain": [
       "<Figure size 1440x1440 with 1 Axes>"
      ]
     },
     "metadata": {
      "needs_background": "light"
     },
     "output_type": "display_data"
    }
   ],
   "source": [
    "plt.figure(figsize = (20,20))\n",
    "plt.imshow(T, origin = 'lower', cmap = 'jet')"
   ]
  },
  {
   "cell_type": "markdown",
   "metadata": {},
   "source": [
    "#### hierarchicalDTW"
   ]
  },
  {
   "cell_type": "code",
   "execution_count": 199,
   "metadata": {},
   "outputs": [],
   "source": [
    "def backtrace2(DD, BB1, BB2):\n",
    "    '''\n",
    "    Take the accumulated cost matrix D, and two helper matrices \n",
    "    that record the r_step and c_step that lead to each location in D.\n",
    "    '''\n",
    "    path = []\n",
    "    lastcol = np.argmin(DD[-1, :])\n",
    "    loc = (DD.shape[0] - 1, lastcol)\n",
    "    path.append(loc)\n",
    "    while loc[0] != 0:\n",
    "        r, c = loc\n",
    "        r_step = BB1[(r, c)]\n",
    "        c_step = BB2[(r, c)]\n",
    "        print(r, r_step, c, c_step, T[(r, c)])\n",
    "        loc = (r - r_step, c - c_step)\n",
    "        path.append(loc)\n",
    "    \n",
    "    return path"
   ]
  },
  {
   "cell_type": "code",
   "execution_count": 200,
   "metadata": {},
   "outputs": [
    {
     "name": "stderr",
     "output_type": "stream",
     "text": [
      "/home/mshan/py3env/lib/python3.5/site-packages/ipykernel_launcher.py:26: RuntimeWarning: invalid value encountered in double_scalars\n"
     ]
    },
    {
     "name": "stdout",
     "output_type": "stream",
     "text": [
      "88 36 1425 27 1399\n",
      "52 0 1398 1 1327\n",
      "52 0 1397 1 1327\n",
      "52 0 1396 1 1327\n",
      "52 0 1395 1 1327\n",
      "52 0 1394 1 1327\n",
      "52 0 1393 1 1327\n",
      "52 0 1392 1 1327\n",
      "52 0 1391 65 1327\n",
      "52 0 1326 1 1253\n",
      "52 0 1325 1 1253\n",
      "52 0 1324 1 1253\n",
      "52 0 1323 1 1253\n",
      "52 0 1322 1 1253\n",
      "52 0 1321 1 1253\n",
      "52 0 1320 1 1253\n",
      "52 0 1319 1 1253\n",
      "52 0 1318 1 1253\n",
      "52 0 1317 1 1253\n",
      "52 0 1316 1 1253\n",
      "52 0 1315 1 1253\n",
      "52 0 1314 1 1253\n",
      "52 2 1313 61 1253\n",
      "50 0 1252 1 1166\n",
      "50 0 1251 1 1166\n",
      "50 0 1250 1 1166\n",
      "50 0 1249 1 1166\n",
      "50 0 1248 1 1166\n",
      "50 0 1247 1 1166\n",
      "50 0 1246 1 1166\n",
      "50 0 1245 1 1166\n",
      "50 0 1244 1 1166\n",
      "50 0 1243 1 1166\n",
      "50 0 1242 1 1166\n",
      "50 0 1241 1 1166\n",
      "50 0 1240 1 1166\n",
      "50 0 1239 1 1166\n",
      "50 0 1238 1 1166\n",
      "50 0 1237 1 1166\n",
      "50 0 1236 1 1166\n",
      "50 0 1235 1 1166\n",
      "50 0 1234 69 1166\n",
      "50 0 1165 1 1092\n",
      "50 0 1164 1 1092\n",
      "50 0 1163 1 1092\n",
      "50 0 1162 1 1092\n",
      "50 0 1161 1 1092\n",
      "50 0 1160 1 1092\n",
      "50 0 1159 1 1092\n",
      "50 0 1158 1 1092\n",
      "50 0 1157 1 1092\n",
      "50 0 1156 1 1092\n",
      "50 0 1155 1 1092\n",
      "50 0 1154 1 1092\n",
      "50 0 1153 1 1092\n",
      "50 0 1152 1 1092\n",
      "50 0 1151 1 1092\n",
      "50 0 1150 1 1092\n",
      "50 0 1149 1 1092\n",
      "50 0 1148 1 1092\n",
      "50 2 1147 56 1092\n",
      "48 1 1091 45 1047\n",
      "47 0 1046 48 999\n",
      "47 0 998 1 924\n",
      "47 0 997 1 924\n",
      "47 0 996 1 924\n",
      "47 0 995 1 924\n",
      "47 0 994 1 924\n",
      "47 0 993 1 924\n",
      "47 0 992 1 924\n",
      "47 0 991 1 924\n",
      "47 0 990 1 924\n",
      "47 0 989 1 924\n",
      "47 0 988 1 924\n",
      "47 0 987 1 924\n",
      "47 0 986 1 924\n",
      "47 0 985 1 924\n",
      "47 0 984 1 924\n",
      "47 0 983 1 924\n",
      "47 0 982 1 924\n",
      "47 0 981 1 924\n",
      "47 0 980 1 924\n",
      "47 0 979 1 924\n",
      "47 0 978 1 924\n",
      "47 0 977 1 924\n",
      "47 0 976 1 924\n",
      "47 0 975 1 924\n",
      "47 0 974 1 924\n",
      "47 0 973 1 924\n",
      "47 0 972 1 924\n",
      "47 0 971 1 924\n",
      "47 0 970 1 924\n",
      "47 0 969 1 924\n",
      "47 0 968 45 924\n",
      "47 3 923 48 876\n",
      "44 0 875 1 811\n",
      "44 0 874 1 811\n",
      "44 0 873 1 811\n",
      "44 0 872 62 811\n",
      "44 0 810 56 755\n",
      "44 0 754 1 693\n",
      "44 0 753 1 693\n",
      "44 0 752 1 693\n",
      "44 0 751 1 693\n",
      "44 0 750 1 693\n",
      "44 8 749 57 693\n",
      "36 0 692 1 656\n",
      "36 0 691 1 656\n",
      "36 0 690 1 656\n",
      "36 0 689 34 656\n",
      "36 0 655 1 601\n",
      "36 0 654 1 601\n",
      "36 0 653 1 601\n",
      "36 0 652 1 601\n",
      "36 0 651 1 601\n",
      "36 0 650 1 601\n",
      "36 0 649 1 601\n",
      "36 0 648 48 601\n",
      "36 0 600 1 554\n",
      "36 0 599 1 554\n",
      "36 0 598 1 554\n",
      "36 0 597 1 554\n",
      "36 0 596 43 554\n",
      "36 0 553 42 512\n",
      "36 0 511 1 460\n",
      "36 0 510 1 460\n",
      "36 0 509 1 460\n",
      "36 0 508 1 460\n",
      "36 0 507 48 460\n",
      "36 0 459 1 410\n",
      "36 0 458 1 410\n",
      "36 0 457 1 410\n",
      "36 0 456 47 410\n",
      "36 1 409 67 343\n",
      "35 1 342 39 304\n",
      "34 0 303 63 241\n",
      "34 2 240 54 187\n",
      "32 0 186 1 111\n",
      "32 0 185 1 111\n",
      "32 0 184 1 111\n",
      "32 0 183 1 111\n",
      "32 0 182 1 111\n",
      "32 0 181 1 111\n",
      "32 0 180 1 111\n",
      "32 0 179 1 111\n",
      "32 0 178 1 111\n",
      "32 0 177 1 111\n",
      "32 0 176 1 111\n",
      "32 0 175 1 111\n",
      "32 0 174 1 111\n",
      "32 0 173 63 111\n",
      "32 0 110 1 38\n",
      "32 0 109 72 38\n",
      "32 0 37 1 1\n",
      "32 -1 36 36 1\n",
      "33 -55 0 1 0\n",
      "88 36 -1 27 1399\n",
      "52 0 -28 1 1327\n",
      "52 0 -29 1 1327\n",
      "52 0 -30 1 1327\n",
      "52 0 -31 1 1327\n",
      "52 0 -32 1 1327\n",
      "52 0 -33 1 1327\n",
      "52 0 -34 1 1327\n",
      "52 0 -35 65 1327\n",
      "52 0 -100 1 1253\n",
      "52 0 -101 1 1253\n",
      "52 0 -102 1 1253\n",
      "52 0 -103 1 1253\n",
      "52 0 -104 1 1253\n",
      "52 0 -105 1 1253\n",
      "52 0 -106 1 1253\n",
      "52 0 -107 1 1253\n",
      "52 0 -108 1 1253\n",
      "52 0 -109 1 1253\n",
      "52 0 -110 1 1253\n",
      "52 0 -111 1 1253\n",
      "52 0 -112 1 1253\n",
      "52 2 -113 61 1253\n",
      "50 0 -174 1 1166\n",
      "50 0 -175 1 1166\n",
      "50 0 -176 1 1166\n",
      "50 0 -177 1 1166\n",
      "50 0 -178 1 1166\n",
      "50 0 -179 1 1166\n",
      "50 0 -180 1 1166\n",
      "50 0 -181 1 1166\n",
      "50 0 -182 1 1166\n",
      "50 0 -183 1 1166\n",
      "50 0 -184 1 1166\n",
      "50 0 -185 1 1166\n",
      "50 0 -186 1 1166\n",
      "50 0 -187 1 1166\n",
      "50 0 -188 1 1166\n",
      "50 0 -189 1 1166\n",
      "50 0 -190 1 1166\n",
      "50 0 -191 1 1166\n",
      "50 0 -192 69 1166\n",
      "50 0 -261 1 1092\n",
      "50 0 -262 1 1092\n",
      "50 0 -263 1 1092\n",
      "50 0 -264 1 1092\n",
      "50 0 -265 1 1092\n",
      "50 0 -266 1 1092\n",
      "50 0 -267 1 1092\n",
      "50 0 -268 1 1092\n",
      "50 0 -269 1 1092\n",
      "50 0 -270 1 1092\n",
      "50 0 -271 1 1092\n",
      "50 0 -272 1 1092\n",
      "50 0 -273 1 1092\n",
      "50 0 -274 1 1092\n",
      "50 0 -275 1 1092\n",
      "50 0 -276 1 1092\n",
      "50 0 -277 1 1092\n",
      "50 0 -278 1 1092\n",
      "50 2 -279 56 1092\n",
      "48 1 -335 45 1047\n",
      "47 0 -380 48 999\n",
      "47 0 -428 1 924\n",
      "47 0 -429 1 924\n",
      "47 0 -430 1 924\n",
      "47 0 -431 1 924\n",
      "47 0 -432 1 924\n",
      "47 0 -433 1 924\n",
      "47 0 -434 1 924\n",
      "47 0 -435 1 924\n",
      "47 0 -436 1 924\n",
      "47 0 -437 1 924\n",
      "47 0 -438 1 924\n",
      "47 0 -439 1 924\n",
      "47 0 -440 1 924\n",
      "47 0 -441 1 924\n",
      "47 0 -442 1 924\n",
      "47 0 -443 1 924\n",
      "47 0 -444 1 924\n",
      "47 0 -445 1 924\n",
      "47 0 -446 1 924\n",
      "47 0 -447 1 924\n",
      "47 0 -448 1 924\n",
      "47 0 -449 1 924\n",
      "47 0 -450 1 924\n",
      "47 0 -451 1 924\n",
      "47 0 -452 1 924\n",
      "47 0 -453 1 924\n",
      "47 0 -454 1 924\n",
      "47 0 -455 1 924\n",
      "47 0 -456 1 924\n",
      "47 0 -457 1 924\n",
      "47 0 -458 45 924\n",
      "47 3 -503 48 876\n",
      "44 0 -551 1 811\n",
      "44 0 -552 1 811\n",
      "44 0 -553 1 811\n",
      "44 0 -554 62 811\n",
      "44 0 -616 56 755\n",
      "44 0 -672 1 693\n",
      "44 0 -673 1 693\n",
      "44 0 -674 1 693\n",
      "44 0 -675 1 693\n",
      "44 0 -676 1 693\n",
      "44 8 -677 57 693\n",
      "36 0 -734 1 656\n",
      "36 0 -735 1 656\n",
      "36 0 -736 1 656\n",
      "36 0 -737 34 656\n",
      "36 0 -771 1 601\n",
      "36 0 -772 1 601\n",
      "36 0 -773 1 601\n",
      "36 0 -774 1 601\n",
      "36 0 -775 1 601\n",
      "36 0 -776 1 601\n",
      "36 0 -777 1 601\n",
      "36 0 -778 48 601\n",
      "36 0 -826 1 554\n",
      "36 0 -827 1 554\n",
      "36 0 -828 1 554\n",
      "36 0 -829 1 554\n",
      "36 0 -830 43 554\n",
      "36 0 -873 42 512\n",
      "36 0 -915 1 460\n",
      "36 0 -916 1 460\n",
      "36 0 -917 1 460\n",
      "36 0 -918 1 460\n",
      "36 0 -919 48 460\n",
      "36 0 -967 1 410\n",
      "36 0 -968 1 410\n",
      "36 0 -969 1 410\n",
      "36 0 -970 47 410\n",
      "36 1 -1017 67 343\n",
      "35 1 -1084 39 304\n",
      "34 0 -1123 63 241\n",
      "34 2 -1186 54 187\n",
      "32 0 -1240 1 111\n",
      "32 0 -1241 1 111\n",
      "32 0 -1242 1 111\n",
      "32 0 -1243 1 111\n",
      "32 0 -1244 1 111\n",
      "32 0 -1245 1 111\n",
      "32 0 -1246 1 111\n",
      "32 0 -1247 1 111\n",
      "32 0 -1248 1 111\n",
      "32 0 -1249 1 111\n",
      "32 0 -1250 1 111\n",
      "32 0 -1251 1 111\n",
      "32 0 -1252 1 111\n",
      "32 0 -1253 63 111\n",
      "32 0 -1316 1 38\n",
      "32 0 -1317 72 38\n",
      "32 0 -1389 1 1\n",
      "32 -1 -1390 36 1\n",
      "33 -55 -1426 1 0\n"
     ]
    },
    {
     "ename": "IndexError",
     "evalue": "index -1427 is out of bounds for axis 1 with size 1426",
     "output_type": "error",
     "traceback": [
      "\u001b[0;31m---------------------------------------------------------------------------\u001b[0m",
      "\u001b[0;31mIndexError\u001b[0m                                Traceback (most recent call last)",
      "\u001b[0;32m<ipython-input-200-573669c4af9d>\u001b[0m in \u001b[0;36m<module>\u001b[0;34m\u001b[0m\n\u001b[1;32m     33\u001b[0m         \u001b[0mBB2\u001b[0m\u001b[0;34m[\u001b[0m\u001b[0;34m(\u001b[0m\u001b[0mr\u001b[0m\u001b[0;34m,\u001b[0m \u001b[0mc\u001b[0m\u001b[0;34m)\u001b[0m\u001b[0;34m]\u001b[0m \u001b[0;34m=\u001b[0m \u001b[0msteps\u001b[0m\u001b[0;34m[\u001b[0m\u001b[0mminIdx\u001b[0m\u001b[0;34m]\u001b[0m\u001b[0;34m[\u001b[0m\u001b[0;36m1\u001b[0m\u001b[0;34m]\u001b[0m\u001b[0;34m\u001b[0m\u001b[0m\n\u001b[1;32m     34\u001b[0m \u001b[0;34m\u001b[0m\u001b[0m\n\u001b[0;32m---> 35\u001b[0;31m \u001b[0mwp\u001b[0m \u001b[0;34m=\u001b[0m \u001b[0mbacktrace2\u001b[0m\u001b[0;34m(\u001b[0m\u001b[0mDD\u001b[0m\u001b[0;34m,\u001b[0m \u001b[0mBB1\u001b[0m\u001b[0;34m,\u001b[0m \u001b[0mBB2\u001b[0m\u001b[0;34m)\u001b[0m\u001b[0;34m\u001b[0m\u001b[0m\n\u001b[0m",
      "\u001b[0;32m<ipython-input-199-410389337df7>\u001b[0m in \u001b[0;36mbacktrace2\u001b[0;34m(DD, BB1, BB2)\u001b[0m\n\u001b[1;32m     10\u001b[0m     \u001b[0;32mwhile\u001b[0m \u001b[0mloc\u001b[0m\u001b[0;34m[\u001b[0m\u001b[0;36m0\u001b[0m\u001b[0;34m]\u001b[0m \u001b[0;34m!=\u001b[0m \u001b[0;36m0\u001b[0m\u001b[0;34m:\u001b[0m\u001b[0;34m\u001b[0m\u001b[0m\n\u001b[1;32m     11\u001b[0m         \u001b[0mr\u001b[0m\u001b[0;34m,\u001b[0m \u001b[0mc\u001b[0m \u001b[0;34m=\u001b[0m \u001b[0mloc\u001b[0m\u001b[0;34m\u001b[0m\u001b[0m\n\u001b[0;32m---> 12\u001b[0;31m         \u001b[0mr_step\u001b[0m \u001b[0;34m=\u001b[0m \u001b[0mBB1\u001b[0m\u001b[0;34m[\u001b[0m\u001b[0;34m(\u001b[0m\u001b[0mr\u001b[0m\u001b[0;34m,\u001b[0m \u001b[0mc\u001b[0m\u001b[0;34m)\u001b[0m\u001b[0;34m]\u001b[0m\u001b[0;34m\u001b[0m\u001b[0m\n\u001b[0m\u001b[1;32m     13\u001b[0m         \u001b[0mc_step\u001b[0m \u001b[0;34m=\u001b[0m \u001b[0mBB2\u001b[0m\u001b[0;34m[\u001b[0m\u001b[0;34m(\u001b[0m\u001b[0mr\u001b[0m\u001b[0;34m,\u001b[0m \u001b[0mc\u001b[0m\u001b[0;34m)\u001b[0m\u001b[0;34m]\u001b[0m\u001b[0;34m\u001b[0m\u001b[0m\n\u001b[1;32m     14\u001b[0m         \u001b[0mprint\u001b[0m\u001b[0;34m(\u001b[0m\u001b[0mr\u001b[0m\u001b[0;34m,\u001b[0m \u001b[0mr_step\u001b[0m\u001b[0;34m,\u001b[0m \u001b[0mc\u001b[0m\u001b[0;34m,\u001b[0m \u001b[0mc_step\u001b[0m\u001b[0;34m,\u001b[0m \u001b[0mT\u001b[0m\u001b[0;34m[\u001b[0m\u001b[0;34m(\u001b[0m\u001b[0mr\u001b[0m\u001b[0;34m,\u001b[0m \u001b[0mc\u001b[0m\u001b[0;34m)\u001b[0m\u001b[0;34m]\u001b[0m\u001b[0;34m)\u001b[0m\u001b[0;34m\u001b[0m\u001b[0m\n",
      "\u001b[0;31mIndexError\u001b[0m: index -1427 is out of bounds for axis 1 with size 1426"
     ]
    }
   ],
   "source": [
    "alpha = 0.5\n",
    "\n",
    "# Name them DD and BB to avoid confusion\n",
    "DD = np.zeros((C.shape[0], C.shape[1] - 1))\n",
    "BB1 = np.zeros(DD.shape, dtype=np.int64)  # row jump to this location\n",
    "BB2 = np.zeros(DD.shape, dtype=np.int64)  # col jump to this location\n",
    "\n",
    "\n",
    "DD[0, :] = C[0, 1:]  \n",
    "\n",
    "for r in range(1, DD.shape[0]):\n",
    "    for c in range(0, DD.shape[1]):\n",
    "        k = T[(r, c)]\n",
    "        # jump from (n, k-1) where n = 0, 1, ..., T.shape[0] - 1\n",
    "        jumpSteps = [(r-n, c-k+1) for n in range(T.shape[0])]\n",
    "        steps = [(0,1)] + jumpSteps\n",
    "        weights = [0] + [alpha] * len(jumpSteps)\n",
    "        weights[r + 1] = 1  # if jumping from (r-1, k-1), weight should be 1\n",
    "        \n",
    "        minCost = np.inf\n",
    "        minIdx = -1\n",
    "        \n",
    "        for idx in range(len(steps)):\n",
    "            r_step, c_step = steps[idx]\n",
    "            if r >= r_step and c >= c_step and r-r_step < DD.shape[0] and c-c_step < DD.shape[1]:\n",
    "                cost = DD[(r-r_step, c-c_step)] + C[(r, c + 1)] * weights[idx]\n",
    "                if cost < minCost:\n",
    "                    minCost = cost\n",
    "                    minIdx = idx\n",
    "                    \n",
    "        DD[(r, c)] = minCost\n",
    "        BB1[(r, c)] = steps[minIdx][0]\n",
    "        BB2[(r, c)] = steps[minIdx][1]\n",
    "        \n",
    "wp = backtrace2(DD, BB1, BB2)"
   ]
  },
  {
   "cell_type": "code",
   "execution_count": 186,
   "metadata": {},
   "outputs": [
    {
     "data": {
      "text/plain": [
       "[<matplotlib.lines.Line2D at 0x7f3118a8bef0>]"
      ]
     },
     "execution_count": 186,
     "metadata": {},
     "output_type": "execute_result"
    },
    {
     "data": {
      "image/png": "[encoded data removed]",
      "text/plain": [
       "<Figure size 1440x1440 with 1 Axes>"
      ]
     },
     "metadata": {
      "needs_background": "light"
     },
     "output_type": "display_data"
    }
   ],
   "source": [
    "plt.figure(figsize = (20,20))\n",
    "plt.imshow(DD, origin = 'lower', cmap = 'jet')\n",
    "plt.plot(wp[:,1], wp[:,0], color='y')"
   ]
  },
  {
   "cell_type": "code",
   "execution_count": 185,
   "metadata": {},
   "outputs": [],
   "source": [
    "wp = np.array(wp)"
   ]
  },
  {
   "cell_type": "code",
   "execution_count": 178,
   "metadata": {},
   "outputs": [
    {
     "data": {
      "text/plain": [
       "[[19, 1196],\n",
       " [19, 1195],\n",
       " [19, 1194],\n",
       " [19, 1193],\n",
       " [19, 1192],\n",
       " [19, 1191],\n",
       " [19, 1190],\n",
       " [19, 1189],\n",
       " [19, 1188],\n",
       " [19, 1187],\n",
       " [19, 1186],\n",
       " [19, 1185],\n",
       " [19, 1184],\n",
       " [19, 1183],\n",
       " [19, 1182],\n",
       " [19, 1181],\n",
       " [19, 1180],\n",
       " [19, 1136],\n",
       " [19, 1135],\n",
       " [19, 1134],\n",
       " [19, 1133],\n",
       " [19, 1132],\n",
       " [19, 1087],\n",
       " [19, 1086],\n",
       " [19, 1085],\n",
       " [19, 1084],\n",
       " [19, 1040],\n",
       " [19, 1039],\n",
       " [19, 1038],\n",
       " [19, 1037],\n",
       " [19, 1036],\n",
       " [19, 1035],\n",
       " [19, 1034],\n",
       " [19, 1033],\n",
       " [19, 1032],\n",
       " [19, 1031],\n",
       " [19, 1030],\n",
       " [19, 1029],\n",
       " [19, 1028],\n",
       " [19, 1027],\n",
       " [19, 1026],\n",
       " [19, 1025],\n",
       " [19, 1024],\n",
       " [19, 1023],\n",
       " [19, 1022],\n",
       " [19, 1021],\n",
       " [19, 1020],\n",
       " [19, 1019],\n",
       " [19, 1018],\n",
       " [19, 1017],\n",
       " [19, 1016],\n",
       " [19, 1015],\n",
       " [19, 1014],\n",
       " [19, 1013],\n",
       " [19, 1012],\n",
       " [19, 1011],\n",
       " [19, 1010],\n",
       " [19, 1009],\n",
       " [19, 1008],\n",
       " [19, 1007],\n",
       " [19, 1006],\n",
       " [19, 1005],\n",
       " [19, 1004],\n",
       " [19, 1003],\n",
       " [19, 1002],\n",
       " [19, 1001],\n",
       " [19, 951],\n",
       " [19, 950],\n",
       " [19, 949],\n",
       " [19, 948],\n",
       " [19, 947],\n",
       " [19, 946],\n",
       " [19, 945],\n",
       " [19, 944],\n",
       " [19, 891],\n",
       " [19, 839],\n",
       " [10, 790],\n",
       " [10, 789],\n",
       " [10, 788],\n",
       " [10, 738],\n",
       " [10, 737],\n",
       " [10, 698],\n",
       " [10, 697],\n",
       " [10, 647],\n",
       " [10, 646],\n",
       " [10, 593],\n",
       " [10, 592],\n",
       " [10, 546],\n",
       " [10, 545],\n",
       " [10, 544],\n",
       " [10, 543],\n",
       " [10, 542],\n",
       " [10, 541],\n",
       " [10, 540],\n",
       " [10, 539],\n",
       " [10, 486],\n",
       " [10, 485],\n",
       " [10, 433],\n",
       " [10, 382],\n",
       " [10, 381],\n",
       " [10, 329],\n",
       " [10, 280],\n",
       " [10, 279],\n",
       " [6, 243],\n",
       " [6, 242],\n",
       " [6, 241],\n",
       " [6, 240],\n",
       " [6, 239],\n",
       " [6, 238],\n",
       " [6, 237],\n",
       " [6, 193],\n",
       " [6, 192],\n",
       " [6, 147],\n",
       " [6, 107],\n",
       " [6, 106],\n",
       " [6, 105],\n",
       " [6, 70],\n",
       " [6, 69],\n",
       " [0, 17]]"
      ]
     },
     "execution_count": 178,
     "metadata": {},
     "output_type": "execute_result"
    }
   ],
   "source": [
    "wp"
   ]
  },
  {
   "cell_type": "code",
   "execution_count": null,
   "metadata": {},
   "outputs": [],
   "source": []
  }
 ],
 "metadata": {
  "kernelspec": {
   "display_name": "Python 3",
   "language": "python",
   "name": "python3"
  },
  "language_info": {
   "codemirror_mode": {
    "name": "ipython",
    "version": 3
   },
   "file_extension": ".py",
   "mimetype": "text/x-python",
   "name": "python",
   "nbconvert_exporter": "python",
   "pygments_lexer": "ipython3",
   "version": "3.5.2"
  }
 },
 "nbformat": 4,
 "nbformat_minor": 4
}
