{
 "cells": [
  {
   "cell_type": "markdown",
   "metadata": {},
   "source": [
    "\n",
    "Plotting results\n",
    "\n",
    "This notebook contains the code for generating the bar plots of system performance for different benchmarks. The graphs are generated using Plotnine, which is a Python data visualization package that replicates R's ggplot.\n",
    "\n"
   ]
  },
  {
   "cell_type": "code",
   "execution_count": 1,
   "metadata": {},
   "outputs": [],
   "source": [
    "import pandas as pd\n",
    "from plotnine import *\n",
    "from pathlib import Path\n",
    "from pandas.api.types import CategoricalDtype\n",
    "import numpy as np"
   ]
  },
  {
   "cell_type": "code",
   "execution_count": 2,
   "metadata": {},
   "outputs": [],
   "source": [
    "data_path = Path('./results')"
   ]
  },
  {
   "cell_type": "code",
   "execution_count": 19,
   "metadata": {},
   "outputs": [],
   "source": [
    "colors = [\"gold\", \"#619CFF\", \"#f8766d\", \"#00BA38\"]"
   ]
  },
  {
   "cell_type": "code",
   "execution_count": 20,
   "metadata": {},
   "outputs": [],
   "source": [
    "data_categories = CategoricalDtype(categories=[\"No Repeat\", \"Repeat 1\", \"Repeat 2\", \"Repeat 3\", \"DS al fine\"], ordered=True)"
   ]
  },
  {
   "cell_type": "markdown",
   "metadata": {},
   "source": [
    "Plot of accuracy for different systems"
   ]
  },
  {
   "cell_type": "code",
   "execution_count": 21,
   "metadata": {},
   "outputs": [],
   "source": [
    "train_df = pd.read_csv('train.csv')"
   ]
  },
  {
   "cell_type": "code",
   "execution_count": 22,
   "metadata": {},
   "outputs": [],
   "source": [
    "test_df = pd.read_csv('test.csv')"
   ]
  },
  {
   "cell_type": "code",
   "execution_count": 23,
   "metadata": {},
   "outputs": [
    {
     "data": {
      "text/html": [
       "<div>\n",
       "<style scoped>\n",
       "    .dataframe tbody tr th:only-of-type {\n",
       "        vertical-align: middle;\n",
       "    }\n",
       "\n",
       "    .dataframe tbody tr th {\n",
       "        vertical-align: top;\n",
       "    }\n",
       "\n",
       "    .dataframe thead th {\n",
       "        text-align: right;\n",
       "    }\n",
       "</style>\n",
       "<table border=\"1\" class=\"dataframe\">\n",
       "  <thead>\n",
       "    <tr style=\"text-align: right;\">\n",
       "      <th></th>\n",
       "      <th>System</th>\n",
       "      <th>Benchmark</th>\n",
       "      <th>c0.5</th>\n",
       "      <th>c0</th>\n",
       "      <th>c0.1</th>\n",
       "      <th>c0.2</th>\n",
       "      <th>c1</th>\n",
       "      <th>x1</th>\n",
       "      <th>x2</th>\n",
       "    </tr>\n",
       "  </thead>\n",
       "  <tbody>\n",
       "    <tr>\n",
       "      <th>0</th>\n",
       "      <td>Dorfer-subDTW</td>\n",
       "      <td>No Repeat</td>\n",
       "      <td>45.9</td>\n",
       "      <td>42.2</td>\n",
       "      <td>42.7</td>\n",
       "      <td>43.1</td>\n",
       "      <td>47.4</td>\n",
       "      <td>0.67</td>\n",
       "      <td>0.77</td>\n",
       "    </tr>\n",
       "    <tr>\n",
       "      <th>1</th>\n",
       "      <td>Dorfer-subDTW</td>\n",
       "      <td>Repeat 1</td>\n",
       "      <td>33.9</td>\n",
       "      <td>30.9</td>\n",
       "      <td>31.2</td>\n",
       "      <td>32.4</td>\n",
       "      <td>35.8</td>\n",
       "      <td>1.67</td>\n",
       "      <td>1.77</td>\n",
       "    </tr>\n",
       "    <tr>\n",
       "      <th>2</th>\n",
       "      <td>Dorfer-subDTW</td>\n",
       "      <td>Repeat 2</td>\n",
       "      <td>27.1</td>\n",
       "      <td>26.3</td>\n",
       "      <td>26.3</td>\n",
       "      <td>26.5</td>\n",
       "      <td>27.6</td>\n",
       "      <td>2.67</td>\n",
       "      <td>2.77</td>\n",
       "    </tr>\n",
       "    <tr>\n",
       "      <th>3</th>\n",
       "      <td>Dorfer-subDTW</td>\n",
       "      <td>Repeat 3</td>\n",
       "      <td>23.2</td>\n",
       "      <td>22.2</td>\n",
       "      <td>22.2</td>\n",
       "      <td>22.4</td>\n",
       "      <td>23.9</td>\n",
       "      <td>3.67</td>\n",
       "      <td>3.77</td>\n",
       "    </tr>\n",
       "    <tr>\n",
       "      <th>4</th>\n",
       "      <td>Dorfer-subDTW</td>\n",
       "      <td>DS al fine</td>\n",
       "      <td>34.1</td>\n",
       "      <td>32.8</td>\n",
       "      <td>32.9</td>\n",
       "      <td>33.1</td>\n",
       "      <td>35.7</td>\n",
       "      <td>4.67</td>\n",
       "      <td>4.77</td>\n",
       "    </tr>\n",
       "  </tbody>\n",
       "</table>\n",
       "</div>"
      ],
      "text/plain": [
       "          System   Benchmark  c0.5    c0  c0.1  c0.2    c1    x1    x2\n",
       "0  Dorfer-subDTW   No Repeat  45.9  42.2  42.7  43.1  47.4  0.67  0.77\n",
       "1  Dorfer-subDTW    Repeat 1  33.9  30.9  31.2  32.4  35.8  1.67  1.77\n",
       "2  Dorfer-subDTW    Repeat 2  27.1  26.3  26.3  26.5  27.6  2.67  2.77\n",
       "3  Dorfer-subDTW    Repeat 3  23.2  22.2  22.2  22.4  23.9  3.67  3.77\n",
       "4  Dorfer-subDTW  DS al fine  34.1  32.8  32.9  33.1  35.7  4.67  4.77"
      ]
     },
     "execution_count": 23,
     "metadata": {},
     "output_type": "execute_result"
    }
   ],
   "source": [
    "train_df.head()"
   ]
  },
  {
   "cell_type": "code",
   "execution_count": 24,
   "metadata": {},
   "outputs": [],
   "source": [
    "benchmark_categories = CategoricalDtype(categories=[\"No Repeat\", \"Repeat 1\", \"Repeat 2\", \"Repeat 3\", \"DS al fine\"], ordered=True)\n",
    "train_df.Benchmark = train_df.Benchmark.astype(benchmark_categories)\n",
    "test_df.Benchmark = test_df.Benchmark.astype(benchmark_categories)\n",
    "system_categories = CategoricalDtype(categories=[\"Dorfer-subDTW\", \"bscore-subDTW\",  \"bscore-jumpDTW\", \"bscore-hierDTW\"], ordered=True)\n",
    "train_df['System'] = train_df['System'].astype(system_categories)\n",
    "test_df['System'] = test_df['System'].astype(system_categories)"
   ]
  },
  {
   "cell_type": "code",
   "execution_count": 27,
   "metadata": {},
   "outputs": [
    {
     "name": "stderr",
     "output_type": "stream",
     "text": [
      "/Users/shanmy/miniconda3/envs/musicstem/lib/python3.7/site-packages/plotnine/ggplot.py:729: PlotnineWarning: Saving 6.4 x 4.8 in image.\n",
      "  from_inches(height, units), units), PlotnineWarning)\n",
      "/Users/shanmy/miniconda3/envs/musicstem/lib/python3.7/site-packages/plotnine/ggplot.py:730: PlotnineWarning: Filename: ./accuracy_plot_train.png\n",
      "  warn('Filename: {}'.format(filename), PlotnineWarning)\n"
     ]
    }
   ],
   "source": [
    "(ggplot(train_df, aes(x=\"Benchmark\", y=\"c0.5\", fill=\"System\")) +\n",
    " \n",
    "    geom_bar(width = 0.75, position=position_dodge2(preserve='single', width=0.95), stat='identity') +\n",
    "    scale_y_continuous(expand = [0, 0], breaks=range(0, 101, 10), limits = [0, 100]) +\n",
    "    scale_fill_manual(values=colors) +\n",
    "    theme_bw() + \n",
    "    labs(y = \"Accuracy (%)\") +\n",
    "\n",
    "    theme(dpi=300, legend_position=(0.5, 0.03), legend_direction=\"horizontal\", legend_title_align='bottom', \n",
    "            legend_background=element_blank(),\n",
    "            legend_title = element_text(size=10),\n",
    "            strip_background = element_rect(fill=\"#ebebeb\"),\n",
    "            plot_title = element_text(size=14, colour='black', margin={'b': 12}),\n",
    "            axis_text_x = element_text(size = 9, colour='black'),\n",
    "            axis_text_y = element_text(size = 12, colour='black'), \n",
    "            axis_title_x = element_blank(),\n",
    "            axis_title_y = element_text(size = 12, margin={'r': 6})) +\n",
    "    geom_segment(train_df, aes(x=\"x1\", xend=\"x2\", y=\"c0\", yend=\"c0\"), color='#a7a9ac') + \n",
    "    geom_segment(train_df, aes(x=\"x1\", xend=\"x2\", y=\"c0.2\", yend=\"c0.2\"), color='#a7a9ac') + \n",
    "    geom_segment(train_df, aes(x=\"x1\", xend=\"x2\", y=\"c1\", yend=\"c1\"), color='#a7a9ac') + \n",
    "    guides(fill=guide_legend(title=\"\", title_position='left', label_position=\"right\"))).save('./accuracy_plot_train.png')"
   ]
  },
  {
   "cell_type": "code",
   "execution_count": 28,
   "metadata": {},
   "outputs": [
    {
     "name": "stderr",
     "output_type": "stream",
     "text": [
      "/Users/shanmy/miniconda3/envs/musicstem/lib/python3.7/site-packages/plotnine/ggplot.py:729: PlotnineWarning: Saving 6.4 x 4.8 in image.\n",
      "  from_inches(height, units), units), PlotnineWarning)\n",
      "/Users/shanmy/miniconda3/envs/musicstem/lib/python3.7/site-packages/plotnine/ggplot.py:730: PlotnineWarning: Filename: ./accuracy_plot_test.png\n",
      "  warn('Filename: {}'.format(filename), PlotnineWarning)\n"
     ]
    }
   ],
   "source": [
    "(ggplot(test_df, aes(x=\"Benchmark\", y=\"c0.5\", fill=\"System\")) +\n",
    " \n",
    "    geom_bar(width = 0.75, position=position_dodge2(preserve='single', width=0.95), stat='identity') +\n",
    "    scale_y_continuous(expand = [0, 0], breaks=range(0, 101, 10), limits = [0, 100]) +\n",
    "    scale_fill_manual(values=colors) +\n",
    "    theme_bw() + \n",
    "    labs(y = \"Accuracy (%)\") +\n",
    "\n",
    "    theme(dpi=300, legend_position=(0.5, 0.03), legend_direction=\"horizontal\", legend_title_align='bottom', \n",
    "            legend_background=element_blank(),\n",
    "            legend_title = element_text(size=10),\n",
    "            strip_background = element_rect(fill=\"#ebebeb\"),\n",
    "            plot_title = element_text(size=14, colour='black', margin={'b': 12}),\n",
    "            axis_text_x = element_text(size = 9, colour='black'),\n",
    "            axis_text_y = element_text(size = 12, colour='black'), \n",
    "            axis_title_x = element_blank(),\n",
    "            axis_title_y = element_text(size = 12, margin={'r': 6})) +\n",
    "    geom_segment(test_df, aes(x=\"x1\", xend=\"x2\", y=\"c0\", yend=\"c0\"), color='#a7a9ac') + \n",
    "    geom_segment(test_df, aes(x=\"x1\", xend=\"x2\", y=\"c0.2\", yend=\"c0.2\"), color='#a7a9ac') + \n",
    "    geom_segment(test_df, aes(x=\"x1\", xend=\"x2\", y=\"c1\", yend=\"c1\"), color='#a7a9ac') + \n",
    "    guides(fill=guide_legend(title=\"\", title_position='left', label_position=\"right\"))).save('./accuracy_plot_test.png')"
   ]
  },
  {
   "cell_type": "code",
   "execution_count": null,
   "metadata": {},
   "outputs": [],
   "source": []
  }
 ],
 "metadata": {
  "kernelspec": {
   "display_name": "Python 3",
   "language": "python",
   "name": "python3"
  },
  "language_info": {
   "codemirror_mode": {
    "name": "ipython",
    "version": 3
   },
   "file_extension": ".py",
   "mimetype": "text/x-python",
   "name": "python",
   "nbconvert_exporter": "python",
   "pygments_lexer": "ipython3",
   "version": "3.7.7"
  }
 },
 "nbformat": 4,
 "nbformat_minor": 4
}
